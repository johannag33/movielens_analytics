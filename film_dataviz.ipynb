{
 "cells": [
  {
   "cell_type": "code",
   "execution_count": 3,
   "id": "011ee616",
   "metadata": {},
   "outputs": [
    {
     "name": "stderr",
     "output_type": "stream",
     "text": [
      "c:\\Users\\johan\\Documents\\Work\\Projects\\MovieLensAnalytics\\movielens_analytics\\env\\Lib\\site-packages\\pydantic\\_internal\\_config.py:373: UserWarning: Valid config keys have changed in V2:\n",
      "* 'orm_mode' has been renamed to 'from_attributes'\n",
      "  warnings.warn(message, UserWarning)\n"
     ]
    }
   ],
   "source": [
    "# Importation des librairies nécessaires\n",
    "import pandas as pd\n",
    "import plotly.express as px\n",
    "import matplotlib.pyplot as plt\n",
    "import seaborn as sns\n",
    "from movielensapi__sdk import MovieClient, MovieConfig\n",
    "import time\n",
    "import json\n",
    "from collections import Counter, defaultdict\n",
    "from pathlib import Path"
   ]
  },
  {
   "cell_type": "code",
   "execution_count": 4,
   "id": "e100c025",
   "metadata": {},
   "outputs": [],
   "source": [
    "# Dossiers\n",
    "output_dir = Path(\"output\")\n",
    "output_dir.mkdir(exist_ok=True)"
   ]
  },
  {
   "cell_type": "code",
   "execution_count": 5,
   "id": "84dc8ebe",
   "metadata": {},
   "outputs": [
    {
     "name": "stdout",
     "output_type": "stream",
     "text": [
      "MOVIE_API_BASE_URL in MovieConfig init: https://movies-backend-nnvw.onrender.com\n"
     ]
    },
    {
     "data": {
      "text/plain": [
       "{'message': 'API MovieLens opérationnelle'}"
      ]
     },
     "execution_count": 5,
     "metadata": {},
     "output_type": "execute_result"
    }
   ],
   "source": [
    "# Configuration avec l’API via SDK\n",
    "config = MovieConfig(movie_base_url=\"https://movies-backend-nnvw.onrender.com\")\n",
    "client = MovieClient(config=config)\n",
    "\n",
    "# vérification que l'API est opérationnelle\n",
    "client.health_check()"
   ]
  },
  {
   "cell_type": "code",
   "execution_count": 6,
   "id": "337b0b86",
   "metadata": {},
   "outputs": [
    {
     "name": "stdout",
     "output_type": "stream",
     "text": [
      "movie_count=9742 rating_count=100836 tag_count=3683 link_count=9742\n"
     ]
    }
   ],
   "source": [
    "# 1. Récupération des statistiques globales\n",
    "analytics = client.get_analytics()\n",
    "print(analytics)"
   ]
  },
  {
   "cell_type": "markdown",
   "id": "cd6fc1cd",
   "metadata": {},
   "source": [
    "## Top 10 des genres par nombre de films"
   ]
  },
  {
   "cell_type": "code",
   "execution_count": 7,
   "id": "f4de0da9",
   "metadata": {},
   "outputs": [
    {
     "data": {
      "text/plain": [
       "'### Système sans mise en cache ###\\n\\n# initialisation du compteur de genres\\ngenre_counter = Counter()\\n\\n# paramètres pour le batching\\nlimit = 1000\\nskip = 0\\n\\nwhile True:\\n  batch = client.list_movies(limit=limit, skip=skip, output_format=\"dict\")\\n  if not batch:\\n    break\\n\\n# on extrait les genres du lot et on les compte\\n  for movie in batch:\\n    genres = movie.get(\"genres\", \"\")\\n    genre_list = genres.split(\"|\") if genres else []\\n    genre_counter.update(genre_list)\\n\\n\\n  skip += limit\\n  time.sleep(0.5)  # pour éviter de surcharger l\\'API\\n\\n# Conversion du Counter en DataFrame\\ngenre_df = pd.DataFrame(genre_counter.items(), columns=[\"genre\", \"count\"])\\ngenre_df = genre_df.sort_values(\"count\", ascending=False).head(10)\\ngenre_df\\n\\n# Bar chart horizontal\\nfig = px.bar(\\n    genre_df,\\n    x=\"count\",\\n    y=\"genre\",\\n    title=\"Top 10 genres par nombre de films\",\\n    labels={\"genre\": \"Genre\", \"count\": \"Nombre de films\"},\\n    color=\"count\",\\n    color_continuous_scale=\"viridis\",\\n    orientation=\\'h\\'  # ← clé pour l\\'affichage horizontal\\n)\\n\\nfig.update_layout(\\n    yaxis={\\'categoryorder\\':\\'total ascending\\'},  # trie du haut vers le bas\\n    height=500\\n)\\n\\nfig.show()\\n'"
      ]
     },
     "execution_count": 7,
     "metadata": {},
     "output_type": "execute_result"
    }
   ],
   "source": [
    "'''### Système sans mise en cache ###\n",
    "\n",
    "# initialisation du compteur de genres\n",
    "genre_counter = Counter()\n",
    "\n",
    "# paramètres pour le batching\n",
    "limit = 1000\n",
    "skip = 0\n",
    "\n",
    "while True:\n",
    "  batch = client.list_movies(limit=limit, skip=skip, output_format=\"dict\")\n",
    "  if not batch:\n",
    "    break\n",
    "\n",
    "# on extrait les genres du lot et on les compte\n",
    "  for movie in batch:\n",
    "    genres = movie.get(\"genres\", \"\")\n",
    "    genre_list = genres.split(\"|\") if genres else []\n",
    "    genre_counter.update(genre_list)\n",
    "    \n",
    "  \n",
    "  skip += limit\n",
    "  time.sleep(0.5)  # pour éviter de surcharger l'API\n",
    "\n",
    "# Conversion du Counter en DataFrame\n",
    "genre_df = pd.DataFrame(genre_counter.items(), columns=[\"genre\", \"count\"])\n",
    "genre_df = genre_df.sort_values(\"count\", ascending=False).head(10)\n",
    "genre_df\n",
    "\n",
    "# Bar chart horizontal\n",
    "fig = px.bar(\n",
    "    genre_df,\n",
    "    x=\"count\",\n",
    "    y=\"genre\",\n",
    "    title=\"Top 10 genres par nombre de films\",\n",
    "    labels={\"genre\": \"Genre\", \"count\": \"Nombre de films\"},\n",
    "    color=\"count\",\n",
    "    color_continuous_scale=\"viridis\",\n",
    "    orientation='h'  # ← clé pour l'affichage horizontal\n",
    ")\n",
    "\n",
    "fig.update_layout(\n",
    "    yaxis={'categoryorder':'total ascending'},  # trie du haut vers le bas\n",
    "    height=500\n",
    ")\n",
    "\n",
    "fig.show()\n",
    "'''"
   ]
  },
  {
   "cell_type": "code",
   "execution_count": 8,
   "id": "293b1f03",
   "metadata": {},
   "outputs": [
    {
     "name": "stdout",
     "output_type": "stream",
     "text": [
      "9742\n",
      "Chargement des données depuis le cache...\n"
     ]
    },
    {
     "data": {
      "application/vnd.plotly.v1+json": {
       "config": {
        "plotlyServerURL": "https://plot.ly"
       },
       "data": [
        {
         "hovertemplate": "Nombre de films=%{marker.color}<br>Genre=%{y}<extra></extra>",
         "legendgroup": "",
         "marker": {
          "color": {
           "bdata": "CRGsDmYHJAc8Bu8ErwTUA9IDCwM=",
           "dtype": "i2"
          },
          "coloraxis": "coloraxis",
          "pattern": {
           "shape": ""
          }
         },
         "name": "",
         "orientation": "h",
         "showlegend": false,
         "textposition": "auto",
         "type": "bar",
         "x": {
          "bdata": "CRGsDmYHJAc8Bu8ErwTUA9IDCwM=",
          "dtype": "i2"
         },
         "xaxis": "x",
         "y": [
          "Drama",
          "Comedy",
          "Thriller",
          "Action",
          "Romance",
          "Adventure",
          "Crime",
          "Sci-Fi",
          "Horror",
          "Fantasy"
         ],
         "yaxis": "y"
        }
       ],
       "layout": {
        "barmode": "relative",
        "coloraxis": {
         "colorbar": {
          "title": {
           "text": "Nombre de films"
          }
         },
         "colorscale": [
          [
           0,
           "#440154"
          ],
          [
           0.1111111111111111,
           "#482878"
          ],
          [
           0.2222222222222222,
           "#3e4989"
          ],
          [
           0.3333333333333333,
           "#31688e"
          ],
          [
           0.4444444444444444,
           "#26828e"
          ],
          [
           0.5555555555555556,
           "#1f9e89"
          ],
          [
           0.6666666666666666,
           "#35b779"
          ],
          [
           0.7777777777777778,
           "#6ece58"
          ],
          [
           0.8888888888888888,
           "#b5de2b"
          ],
          [
           1,
           "#fde725"
          ]
         ]
        },
        "height": 500,
        "legend": {
         "tracegroupgap": 0
        },
        "template": {
         "data": {
          "bar": [
           {
            "error_x": {
             "color": "#2a3f5f"
            },
            "error_y": {
             "color": "#2a3f5f"
            },
            "marker": {
             "line": {
              "color": "#E5ECF6",
              "width": 0.5
             },
             "pattern": {
              "fillmode": "overlay",
              "size": 10,
              "solidity": 0.2
             }
            },
            "type": "bar"
           }
          ],
          "barpolar": [
           {
            "marker": {
             "line": {
              "color": "#E5ECF6",
              "width": 0.5
             },
             "pattern": {
              "fillmode": "overlay",
              "size": 10,
              "solidity": 0.2
             }
            },
            "type": "barpolar"
           }
          ],
          "carpet": [
           {
            "aaxis": {
             "endlinecolor": "#2a3f5f",
             "gridcolor": "white",
             "linecolor": "white",
             "minorgridcolor": "white",
             "startlinecolor": "#2a3f5f"
            },
            "baxis": {
             "endlinecolor": "#2a3f5f",
             "gridcolor": "white",
             "linecolor": "white",
             "minorgridcolor": "white",
             "startlinecolor": "#2a3f5f"
            },
            "type": "carpet"
           }
          ],
          "choropleth": [
           {
            "colorbar": {
             "outlinewidth": 0,
             "ticks": ""
            },
            "type": "choropleth"
           }
          ],
          "contour": [
           {
            "colorbar": {
             "outlinewidth": 0,
             "ticks": ""
            },
            "colorscale": [
             [
              0,
              "#0d0887"
             ],
             [
              0.1111111111111111,
              "#46039f"
             ],
             [
              0.2222222222222222,
              "#7201a8"
             ],
             [
              0.3333333333333333,
              "#9c179e"
             ],
             [
              0.4444444444444444,
              "#bd3786"
             ],
             [
              0.5555555555555556,
              "#d8576b"
             ],
             [
              0.6666666666666666,
              "#ed7953"
             ],
             [
              0.7777777777777778,
              "#fb9f3a"
             ],
             [
              0.8888888888888888,
              "#fdca26"
             ],
             [
              1,
              "#f0f921"
             ]
            ],
            "type": "contour"
           }
          ],
          "contourcarpet": [
           {
            "colorbar": {
             "outlinewidth": 0,
             "ticks": ""
            },
            "type": "contourcarpet"
           }
          ],
          "heatmap": [
           {
            "colorbar": {
             "outlinewidth": 0,
             "ticks": ""
            },
            "colorscale": [
             [
              0,
              "#0d0887"
             ],
             [
              0.1111111111111111,
              "#46039f"
             ],
             [
              0.2222222222222222,
              "#7201a8"
             ],
             [
              0.3333333333333333,
              "#9c179e"
             ],
             [
              0.4444444444444444,
              "#bd3786"
             ],
             [
              0.5555555555555556,
              "#d8576b"
             ],
             [
              0.6666666666666666,
              "#ed7953"
             ],
             [
              0.7777777777777778,
              "#fb9f3a"
             ],
             [
              0.8888888888888888,
              "#fdca26"
             ],
             [
              1,
              "#f0f921"
             ]
            ],
            "type": "heatmap"
           }
          ],
          "histogram": [
           {
            "marker": {
             "pattern": {
              "fillmode": "overlay",
              "size": 10,
              "solidity": 0.2
             }
            },
            "type": "histogram"
           }
          ],
          "histogram2d": [
           {
            "colorbar": {
             "outlinewidth": 0,
             "ticks": ""
            },
            "colorscale": [
             [
              0,
              "#0d0887"
             ],
             [
              0.1111111111111111,
              "#46039f"
             ],
             [
              0.2222222222222222,
              "#7201a8"
             ],
             [
              0.3333333333333333,
              "#9c179e"
             ],
             [
              0.4444444444444444,
              "#bd3786"
             ],
             [
              0.5555555555555556,
              "#d8576b"
             ],
             [
              0.6666666666666666,
              "#ed7953"
             ],
             [
              0.7777777777777778,
              "#fb9f3a"
             ],
             [
              0.8888888888888888,
              "#fdca26"
             ],
             [
              1,
              "#f0f921"
             ]
            ],
            "type": "histogram2d"
           }
          ],
          "histogram2dcontour": [
           {
            "colorbar": {
             "outlinewidth": 0,
             "ticks": ""
            },
            "colorscale": [
             [
              0,
              "#0d0887"
             ],
             [
              0.1111111111111111,
              "#46039f"
             ],
             [
              0.2222222222222222,
              "#7201a8"
             ],
             [
              0.3333333333333333,
              "#9c179e"
             ],
             [
              0.4444444444444444,
              "#bd3786"
             ],
             [
              0.5555555555555556,
              "#d8576b"
             ],
             [
              0.6666666666666666,
              "#ed7953"
             ],
             [
              0.7777777777777778,
              "#fb9f3a"
             ],
             [
              0.8888888888888888,
              "#fdca26"
             ],
             [
              1,
              "#f0f921"
             ]
            ],
            "type": "histogram2dcontour"
           }
          ],
          "mesh3d": [
           {
            "colorbar": {
             "outlinewidth": 0,
             "ticks": ""
            },
            "type": "mesh3d"
           }
          ],
          "parcoords": [
           {
            "line": {
             "colorbar": {
              "outlinewidth": 0,
              "ticks": ""
             }
            },
            "type": "parcoords"
           }
          ],
          "pie": [
           {
            "automargin": true,
            "type": "pie"
           }
          ],
          "scatter": [
           {
            "fillpattern": {
             "fillmode": "overlay",
             "size": 10,
             "solidity": 0.2
            },
            "type": "scatter"
           }
          ],
          "scatter3d": [
           {
            "line": {
             "colorbar": {
              "outlinewidth": 0,
              "ticks": ""
             }
            },
            "marker": {
             "colorbar": {
              "outlinewidth": 0,
              "ticks": ""
             }
            },
            "type": "scatter3d"
           }
          ],
          "scattercarpet": [
           {
            "marker": {
             "colorbar": {
              "outlinewidth": 0,
              "ticks": ""
             }
            },
            "type": "scattercarpet"
           }
          ],
          "scattergeo": [
           {
            "marker": {
             "colorbar": {
              "outlinewidth": 0,
              "ticks": ""
             }
            },
            "type": "scattergeo"
           }
          ],
          "scattergl": [
           {
            "marker": {
             "colorbar": {
              "outlinewidth": 0,
              "ticks": ""
             }
            },
            "type": "scattergl"
           }
          ],
          "scattermap": [
           {
            "marker": {
             "colorbar": {
              "outlinewidth": 0,
              "ticks": ""
             }
            },
            "type": "scattermap"
           }
          ],
          "scattermapbox": [
           {
            "marker": {
             "colorbar": {
              "outlinewidth": 0,
              "ticks": ""
             }
            },
            "type": "scattermapbox"
           }
          ],
          "scatterpolar": [
           {
            "marker": {
             "colorbar": {
              "outlinewidth": 0,
              "ticks": ""
             }
            },
            "type": "scatterpolar"
           }
          ],
          "scatterpolargl": [
           {
            "marker": {
             "colorbar": {
              "outlinewidth": 0,
              "ticks": ""
             }
            },
            "type": "scatterpolargl"
           }
          ],
          "scatterternary": [
           {
            "marker": {
             "colorbar": {
              "outlinewidth": 0,
              "ticks": ""
             }
            },
            "type": "scatterternary"
           }
          ],
          "surface": [
           {
            "colorbar": {
             "outlinewidth": 0,
             "ticks": ""
            },
            "colorscale": [
             [
              0,
              "#0d0887"
             ],
             [
              0.1111111111111111,
              "#46039f"
             ],
             [
              0.2222222222222222,
              "#7201a8"
             ],
             [
              0.3333333333333333,
              "#9c179e"
             ],
             [
              0.4444444444444444,
              "#bd3786"
             ],
             [
              0.5555555555555556,
              "#d8576b"
             ],
             [
              0.6666666666666666,
              "#ed7953"
             ],
             [
              0.7777777777777778,
              "#fb9f3a"
             ],
             [
              0.8888888888888888,
              "#fdca26"
             ],
             [
              1,
              "#f0f921"
             ]
            ],
            "type": "surface"
           }
          ],
          "table": [
           {
            "cells": {
             "fill": {
              "color": "#EBF0F8"
             },
             "line": {
              "color": "white"
             }
            },
            "header": {
             "fill": {
              "color": "#C8D4E3"
             },
             "line": {
              "color": "white"
             }
            },
            "type": "table"
           }
          ]
         },
         "layout": {
          "annotationdefaults": {
           "arrowcolor": "#2a3f5f",
           "arrowhead": 0,
           "arrowwidth": 1
          },
          "autotypenumbers": "strict",
          "coloraxis": {
           "colorbar": {
            "outlinewidth": 0,
            "ticks": ""
           }
          },
          "colorscale": {
           "diverging": [
            [
             0,
             "#8e0152"
            ],
            [
             0.1,
             "#c51b7d"
            ],
            [
             0.2,
             "#de77ae"
            ],
            [
             0.3,
             "#f1b6da"
            ],
            [
             0.4,
             "#fde0ef"
            ],
            [
             0.5,
             "#f7f7f7"
            ],
            [
             0.6,
             "#e6f5d0"
            ],
            [
             0.7,
             "#b8e186"
            ],
            [
             0.8,
             "#7fbc41"
            ],
            [
             0.9,
             "#4d9221"
            ],
            [
             1,
             "#276419"
            ]
           ],
           "sequential": [
            [
             0,
             "#0d0887"
            ],
            [
             0.1111111111111111,
             "#46039f"
            ],
            [
             0.2222222222222222,
             "#7201a8"
            ],
            [
             0.3333333333333333,
             "#9c179e"
            ],
            [
             0.4444444444444444,
             "#bd3786"
            ],
            [
             0.5555555555555556,
             "#d8576b"
            ],
            [
             0.6666666666666666,
             "#ed7953"
            ],
            [
             0.7777777777777778,
             "#fb9f3a"
            ],
            [
             0.8888888888888888,
             "#fdca26"
            ],
            [
             1,
             "#f0f921"
            ]
           ],
           "sequentialminus": [
            [
             0,
             "#0d0887"
            ],
            [
             0.1111111111111111,
             "#46039f"
            ],
            [
             0.2222222222222222,
             "#7201a8"
            ],
            [
             0.3333333333333333,
             "#9c179e"
            ],
            [
             0.4444444444444444,
             "#bd3786"
            ],
            [
             0.5555555555555556,
             "#d8576b"
            ],
            [
             0.6666666666666666,
             "#ed7953"
            ],
            [
             0.7777777777777778,
             "#fb9f3a"
            ],
            [
             0.8888888888888888,
             "#fdca26"
            ],
            [
             1,
             "#f0f921"
            ]
           ]
          },
          "colorway": [
           "#636efa",
           "#EF553B",
           "#00cc96",
           "#ab63fa",
           "#FFA15A",
           "#19d3f3",
           "#FF6692",
           "#B6E880",
           "#FF97FF",
           "#FECB52"
          ],
          "font": {
           "color": "#2a3f5f"
          },
          "geo": {
           "bgcolor": "white",
           "lakecolor": "white",
           "landcolor": "#E5ECF6",
           "showlakes": true,
           "showland": true,
           "subunitcolor": "white"
          },
          "hoverlabel": {
           "align": "left"
          },
          "hovermode": "closest",
          "mapbox": {
           "style": "light"
          },
          "paper_bgcolor": "white",
          "plot_bgcolor": "#E5ECF6",
          "polar": {
           "angularaxis": {
            "gridcolor": "white",
            "linecolor": "white",
            "ticks": ""
           },
           "bgcolor": "#E5ECF6",
           "radialaxis": {
            "gridcolor": "white",
            "linecolor": "white",
            "ticks": ""
           }
          },
          "scene": {
           "xaxis": {
            "backgroundcolor": "#E5ECF6",
            "gridcolor": "white",
            "gridwidth": 2,
            "linecolor": "white",
            "showbackground": true,
            "ticks": "",
            "zerolinecolor": "white"
           },
           "yaxis": {
            "backgroundcolor": "#E5ECF6",
            "gridcolor": "white",
            "gridwidth": 2,
            "linecolor": "white",
            "showbackground": true,
            "ticks": "",
            "zerolinecolor": "white"
           },
           "zaxis": {
            "backgroundcolor": "#E5ECF6",
            "gridcolor": "white",
            "gridwidth": 2,
            "linecolor": "white",
            "showbackground": true,
            "ticks": "",
            "zerolinecolor": "white"
           }
          },
          "shapedefaults": {
           "line": {
            "color": "#2a3f5f"
           }
          },
          "ternary": {
           "aaxis": {
            "gridcolor": "white",
            "linecolor": "white",
            "ticks": ""
           },
           "baxis": {
            "gridcolor": "white",
            "linecolor": "white",
            "ticks": ""
           },
           "bgcolor": "#E5ECF6",
           "caxis": {
            "gridcolor": "white",
            "linecolor": "white",
            "ticks": ""
           }
          },
          "title": {
           "x": 0.05
          },
          "xaxis": {
           "automargin": true,
           "gridcolor": "white",
           "linecolor": "white",
           "ticks": "",
           "title": {
            "standoff": 15
           },
           "zerolinecolor": "white",
           "zerolinewidth": 2
          },
          "yaxis": {
           "automargin": true,
           "gridcolor": "white",
           "linecolor": "white",
           "ticks": "",
           "title": {
            "standoff": 15
           },
           "zerolinecolor": "white",
           "zerolinewidth": 2
          }
         }
        },
        "title": {
         "text": "Top 10 genres par nombre de films"
        },
        "xaxis": {
         "anchor": "y",
         "domain": [
          0,
          1
         ],
         "title": {
          "text": "Nombre de films"
         }
        },
        "yaxis": {
         "anchor": "x",
         "categoryorder": "total ascending",
         "domain": [
          0,
          1
         ],
         "title": {
          "text": "Genre"
         }
        }
       }
      }
     },
     "metadata": {},
     "output_type": "display_data"
    }
   ],
   "source": [
    "####### Avec Système de mise en cache #########\n",
    "api_movie_count = analytics.movie_count\n",
    "print(api_movie_count)\n",
    "\n",
    "genre_data_file = output_dir / \"genre_df.parquet\"\n",
    "meta_file = output_dir / \"meta.json\"\n",
    "\n",
    "# Lecture du fichier méta s'il existe\n",
    "if meta_file.exists():\n",
    "    with open(meta_file, \"r\") as f:\n",
    "        meta = json.load(f)\n",
    "    cached_movie_count = meta.get(\"movie_count\", 0)\n",
    "else:\n",
    "    meta = {}\n",
    "    cached_movie_count = 0\n",
    "\n",
    "# Décision : utiliser le cache ou recalculer\n",
    "if genre_data_file.exists() and cached_movie_count == api_movie_count:\n",
    "    print(\"Chargement des données depuis le cache...\")\n",
    "    genre_df = pd.read_parquet(genre_data_file)\n",
    "else:\n",
    "    print(\"Mise à jour des données depuis l'API...\")\n",
    "    # Initialisation du compteur de genres\n",
    "    genre_counter = Counter()\n",
    "\n",
    "    # Paramètres pour le batching\n",
    "    limit = 1000\n",
    "    skip = 0\n",
    "\n",
    "    while True:\n",
    "        batch = client.list_movies(skip=skip, limit=limit, output_format=\"dict\")\n",
    "        if not batch:\n",
    "            break\n",
    "\n",
    "        # On extrait les genres du lot et les compte\n",
    "        for movie in batch:\n",
    "            genres = movie.get(\"genres\", \"\")\n",
    "            genre_list = genres.split(\"|\") if genres else []\n",
    "            genre_counter.update(genre_list)\n",
    "\n",
    "        skip += limit\n",
    "        time.sleep(0.5)  # Pour respecter l’API\n",
    "\n",
    "    # Conversion du Counter en DataFrame\n",
    "    genre_df = pd.DataFrame(genre_counter.items(), columns=[\"genre\", \"count\"])\n",
    "    genre_df = genre_df.sort_values(\"count\", ascending=False).head(10)\n",
    "\n",
    "    # Sauvegarde\n",
    "    genre_df.to_parquet(genre_data_file, index=False)\n",
    "    with open(meta_file, \"w\") as f:\n",
    "        json.dump({\"movie_count\": api_movie_count}, f)\n",
    "\n",
    "# Affichage Plotly\n",
    "fig = px.bar(\n",
    "    genre_df,\n",
    "    x=\"count\",\n",
    "    y=\"genre\",\n",
    "    title=\"Top 10 genres par nombre de films\",\n",
    "    labels={\"genre\": \"Genre\", \"count\": \"Nombre de films\"},\n",
    "    color=\"count\",\n",
    "    color_continuous_scale=\"viridis\",\n",
    "    orientation='h'\n",
    ")\n",
    "\n",
    "fig.update_layout(\n",
    "    yaxis={'categoryorder':'total ascending'},\n",
    "    height=500\n",
    ")\n",
    "\n",
    "fig.show()"
   ]
  },
  {
   "cell_type": "markdown",
   "id": "86b0feee",
   "metadata": {},
   "source": [
    "## Nombre total de films par année (basée sur le titre)"
   ]
  },
  {
   "cell_type": "code",
   "execution_count": 9,
   "id": "7df0157a",
   "metadata": {},
   "outputs": [
    {
     "data": {
      "text/plain": [
       "MovieDetailed(movieId=1, title='Toy Story (1995)', genres='Adventure|Animation|Children|Comedy|Fantasy', ratings=[RatingBase(userId=1, movieId=1, rating=4.0, timestamp=964982703), RatingBase(userId=5, movieId=1, rating=4.0, timestamp=847434962), RatingBase(userId=7, movieId=1, rating=4.5, timestamp=1106635946), RatingBase(userId=15, movieId=1, rating=2.5, timestamp=1510577970), RatingBase(userId=17, movieId=1, rating=4.5, timestamp=1305696483), RatingBase(userId=18, movieId=1, rating=3.5, timestamp=1455209816), RatingBase(userId=19, movieId=1, rating=4.0, timestamp=965705637), RatingBase(userId=21, movieId=1, rating=3.5, timestamp=1407618878), RatingBase(userId=27, movieId=1, rating=3.0, timestamp=962685262), RatingBase(userId=31, movieId=1, rating=5.0, timestamp=850466616), RatingBase(userId=32, movieId=1, rating=3.0, timestamp=856736119), RatingBase(userId=33, movieId=1, rating=3.0, timestamp=939647444), RatingBase(userId=40, movieId=1, rating=5.0, timestamp=832058959), RatingBase(userId=43, movieId=1, rating=5.0, timestamp=848993983), RatingBase(userId=44, movieId=1, rating=3.0, timestamp=869251860), RatingBase(userId=45, movieId=1, rating=4.0, timestamp=951170182), RatingBase(userId=46, movieId=1, rating=5.0, timestamp=834787906), RatingBase(userId=50, movieId=1, rating=3.0, timestamp=1514238116), RatingBase(userId=54, movieId=1, rating=3.0, timestamp=830247330), RatingBase(userId=57, movieId=1, rating=5.0, timestamp=965796031), RatingBase(userId=63, movieId=1, rating=5.0, timestamp=1443199669), RatingBase(userId=64, movieId=1, rating=4.0, timestamp=1161520134), RatingBase(userId=66, movieId=1, rating=4.0, timestamp=1104643957), RatingBase(userId=68, movieId=1, rating=2.5, timestamp=1158531426), RatingBase(userId=71, movieId=1, rating=5.0, timestamp=864737933), RatingBase(userId=73, movieId=1, rating=4.5, timestamp=1464196374), RatingBase(userId=76, movieId=1, rating=0.5, timestamp=1439165548), RatingBase(userId=78, movieId=1, rating=4.0, timestamp=1252575124), RatingBase(userId=82, movieId=1, rating=2.5, timestamp=1084467729), RatingBase(userId=86, movieId=1, rating=4.0, timestamp=1344082549), RatingBase(userId=89, movieId=1, rating=3.0, timestamp=1520408314), RatingBase(userId=90, movieId=1, rating=3.0, timestamp=856353996), RatingBase(userId=91, movieId=1, rating=4.0, timestamp=1112713037), RatingBase(userId=93, movieId=1, rating=3.0, timestamp=942767337), RatingBase(userId=96, movieId=1, rating=5.0, timestamp=964772990), RatingBase(userId=98, movieId=1, rating=4.5, timestamp=1532457849), RatingBase(userId=103, movieId=1, rating=4.0, timestamp=1431954238), RatingBase(userId=107, movieId=1, rating=4.0, timestamp=829322340), RatingBase(userId=112, movieId=1, rating=3.0, timestamp=1442535639), RatingBase(userId=119, movieId=1, rating=3.5, timestamp=1435942468), RatingBase(userId=121, movieId=1, rating=4.0, timestamp=847656180), RatingBase(userId=124, movieId=1, rating=4.0, timestamp=1336584336), RatingBase(userId=130, movieId=1, rating=3.0, timestamp=832589610), RatingBase(userId=132, movieId=1, rating=2.0, timestamp=1157921785), RatingBase(userId=134, movieId=1, rating=3.0, timestamp=832841103), RatingBase(userId=135, movieId=1, rating=4.0, timestamp=1009691859), RatingBase(userId=137, movieId=1, rating=4.0, timestamp=1204859907), RatingBase(userId=140, movieId=1, rating=3.0, timestamp=942924980), RatingBase(userId=141, movieId=1, rating=4.0, timestamp=1513130643), RatingBase(userId=144, movieId=1, rating=3.5, timestamp=1137323419), RatingBase(userId=145, movieId=1, rating=5.0, timestamp=832105242), RatingBase(userId=151, movieId=1, rating=5.0, timestamp=855947195), RatingBase(userId=153, movieId=1, rating=2.0, timestamp=1525548642), RatingBase(userId=155, movieId=1, rating=3.0, timestamp=961861723), RatingBase(userId=156, movieId=1, rating=4.0, timestamp=1106854640), RatingBase(userId=159, movieId=1, rating=4.5, timestamp=1508640172), RatingBase(userId=160, movieId=1, rating=4.0, timestamp=971115026), RatingBase(userId=161, movieId=1, rating=4.0, timestamp=1176751765), RatingBase(userId=166, movieId=1, rating=5.0, timestamp=1189980529), RatingBase(userId=167, movieId=1, rating=3.5, timestamp=1154721923), RatingBase(userId=169, movieId=1, rating=4.5, timestamp=1059427918), RatingBase(userId=171, movieId=1, rating=5.0, timestamp=866904159), RatingBase(userId=177, movieId=1, rating=5.0, timestamp=1435533535), RatingBase(userId=178, movieId=1, rating=4.0, timestamp=1164354911), RatingBase(userId=179, movieId=1, rating=4.0, timestamp=852114051), RatingBase(userId=182, movieId=1, rating=4.0, timestamp=1063289621), RatingBase(userId=185, movieId=1, rating=4.0, timestamp=1044311830), RatingBase(userId=186, movieId=1, rating=4.0, timestamp=1031080831), RatingBase(userId=191, movieId=1, rating=4.0, timestamp=829759809), RatingBase(userId=193, movieId=1, rating=2.0, timestamp=1435856890), RatingBase(userId=200, movieId=1, rating=3.5, timestamp=1229886312), RatingBase(userId=201, movieId=1, rating=5.0, timestamp=939801780), RatingBase(userId=202, movieId=1, rating=4.0, timestamp=974923506), RatingBase(userId=206, movieId=1, rating=5.0, timestamp=850763267), RatingBase(userId=213, movieId=1, rating=3.5, timestamp=1316196157), RatingBase(userId=214, movieId=1, rating=3.0, timestamp=853937855), RatingBase(userId=216, movieId=1, rating=3.0, timestamp=975211713), RatingBase(userId=217, movieId=1, rating=4.0, timestamp=955942540), RatingBase(userId=219, movieId=1, rating=3.5, timestamp=1194681084), RatingBase(userId=220, movieId=1, rating=5.0, timestamp=1230055565), RatingBase(userId=223, movieId=1, rating=3.5, timestamp=1226209758), RatingBase(userId=226, movieId=1, rating=3.5, timestamp=1095662606), RatingBase(userId=229, movieId=1, rating=5.0, timestamp=838144316), RatingBase(userId=232, movieId=1, rating=3.5, timestamp=1076955621), RatingBase(userId=233, movieId=1, rating=3.0, timestamp=1524781249), RatingBase(userId=234, movieId=1, rating=5.0, timestamp=1004409347), RatingBase(userId=239, movieId=1, rating=4.0, timestamp=1221158265), RatingBase(userId=240, movieId=1, rating=5.0, timestamp=849122434), RatingBase(userId=247, movieId=1, rating=5.0, timestamp=1467644119), RatingBase(userId=249, movieId=1, rating=4.0, timestamp=1347317775), RatingBase(userId=252, movieId=1, rating=4.5, timestamp=1498284904), RatingBase(userId=254, movieId=1, rating=4.5, timestamp=1180446553), RatingBase(userId=263, movieId=1, rating=4.0, timestamp=940384199), RatingBase(userId=264, movieId=1, rating=4.0, timestamp=1136978964), RatingBase(userId=266, movieId=1, rating=2.0, timestamp=945669542), RatingBase(userId=269, movieId=1, rating=5.0, timestamp=850865423), RatingBase(userId=270, movieId=1, rating=5.0, timestamp=853918728), RatingBase(userId=273, movieId=1, rating=5.0, timestamp=835861234), RatingBase(userId=274, movieId=1, rating=4.0, timestamp=1171410158), RatingBase(userId=275, movieId=1, rating=5.0, timestamp=1049076484), RatingBase(userId=276, movieId=1, rating=4.0, timestamp=858350384), RatingBase(userId=277, movieId=1, rating=4.0, timestamp=861812794), RatingBase(userId=279, movieId=1, rating=3.0, timestamp=1506394495), RatingBase(userId=280, movieId=1, rating=4.5, timestamp=1348435273), RatingBase(userId=282, movieId=1, rating=4.5, timestamp=1378495714), RatingBase(userId=283, movieId=1, rating=3.0, timestamp=901227602), RatingBase(userId=288, movieId=1, rating=4.5, timestamp=1054568869), RatingBase(userId=290, movieId=1, rating=4.0, timestamp=975031464), RatingBase(userId=291, movieId=1, rating=4.0, timestamp=1453051567), RatingBase(userId=292, movieId=1, rating=4.0, timestamp=1219625000), RatingBase(userId=293, movieId=1, rating=3.0, timestamp=1044870886), RatingBase(userId=298, movieId=1, rating=2.0, timestamp=1447518257), RatingBase(userId=304, movieId=1, rating=5.0, timestamp=881428344), RatingBase(userId=307, movieId=1, rating=4.0, timestamp=1186160893), RatingBase(userId=314, movieId=1, rating=3.0, timestamp=834398280), RatingBase(userId=322, movieId=1, rating=3.5, timestamp=1217676206), RatingBase(userId=323, movieId=1, rating=3.5, timestamp=1422640363), RatingBase(userId=328, movieId=1, rating=5.0, timestamp=1494210665), RatingBase(userId=330, movieId=1, rating=4.0, timestamp=1285904910), RatingBase(userId=332, movieId=1, rating=4.0, timestamp=1352672340), RatingBase(userId=334, movieId=1, rating=3.5, timestamp=1225477466), RatingBase(userId=336, movieId=1, rating=4.0, timestamp=1122227329), RatingBase(userId=337, movieId=1, rating=4.0, timestamp=860255715), RatingBase(userId=339, movieId=1, rating=4.0, timestamp=1460183470), RatingBase(userId=341, movieId=1, rating=5.0, timestamp=1439750939), RatingBase(userId=347, movieId=1, rating=5.0, timestamp=847645986), RatingBase(userId=350, movieId=1, rating=4.0, timestamp=864940931), RatingBase(userId=353, movieId=1, rating=5.0, timestamp=831939685), RatingBase(userId=357, movieId=1, rating=5.0, timestamp=1348610184), RatingBase(userId=359, movieId=1, rating=4.0, timestamp=1198112023), RatingBase(userId=364, movieId=1, rating=5.0, timestamp=869443366), RatingBase(userId=367, movieId=1, rating=5.0, timestamp=997811550), RatingBase(userId=372, movieId=1, rating=3.0, timestamp=874416443), RatingBase(userId=373, movieId=1, rating=3.0, timestamp=846830172), RatingBase(userId=378, movieId=1, rating=4.5, timestamp=1445347576), RatingBase(userId=380, movieId=1, rating=5.0, timestamp=1493420345), RatingBase(userId=381, movieId=1, rating=3.5, timestamp=1164383653), RatingBase(userId=382, movieId=1, rating=4.5, timestamp=1515162628), RatingBase(userId=385, movieId=1, rating=4.0, timestamp=834691642), RatingBase(userId=389, movieId=1, rating=5.0, timestamp=857934174), RatingBase(userId=391, movieId=1, rating=3.0, timestamp=1032388077), RatingBase(userId=396, movieId=1, rating=5.0, timestamp=1111688626), RatingBase(userId=399, movieId=1, rating=4.0, timestamp=1167220428), RatingBase(userId=401, movieId=1, rating=3.5, timestamp=1510450550), RatingBase(userId=411, movieId=1, rating=5.0, timestamp=835532155), RatingBase(userId=412, movieId=1, rating=2.0, timestamp=939114353), RatingBase(userId=414, movieId=1, rating=4.0, timestamp=961438127), RatingBase(userId=420, movieId=1, rating=4.0, timestamp=1218207191), RatingBase(userId=422, movieId=1, rating=4.0, timestamp=986173307), RatingBase(userId=432, movieId=1, rating=2.5, timestamp=1316391457), RatingBase(userId=434, movieId=1, rating=4.0, timestamp=1270604402), RatingBase(userId=436, movieId=1, rating=4.0, timestamp=833529571), RatingBase(userId=438, movieId=1, rating=4.5, timestamp=1105650469), RatingBase(userId=443, movieId=1, rating=4.0, timestamp=1501722482), RatingBase(userId=448, movieId=1, rating=5.0, timestamp=1019126661), RatingBase(userId=451, movieId=1, rating=5.0, timestamp=854089165), RatingBase(userId=453, movieId=1, rating=5.0, timestamp=1005966797), RatingBase(userId=456, movieId=1, rating=5.0, timestamp=856883308), RatingBase(userId=460, movieId=1, rating=4.5, timestamp=1359177505), RatingBase(userId=462, movieId=1, rating=1.5, timestamp=1154037653), RatingBase(userId=468, movieId=1, rating=4.0, timestamp=831400444), RatingBase(userId=469, movieId=1, rating=4.0, timestamp=965336888), RatingBase(userId=470, movieId=1, rating=4.0, timestamp=849224825), RatingBase(userId=471, movieId=1, rating=5.0, timestamp=1496671820), RatingBase(userId=474, movieId=1, rating=4.0, timestamp=978575760), RatingBase(userId=476, movieId=1, rating=4.0, timestamp=835021447), RatingBase(userId=477, movieId=1, rating=4.0, timestamp=1200939636), RatingBase(userId=480, movieId=1, rating=3.0, timestamp=1179178004), RatingBase(userId=483, movieId=1, rating=4.0, timestamp=1178293130), RatingBase(userId=484, movieId=1, rating=4.5, timestamp=1342295949), RatingBase(userId=488, movieId=1, rating=4.5, timestamp=1112382025), RatingBase(userId=490, movieId=1, rating=3.5, timestamp=1328229305), RatingBase(userId=492, movieId=1, rating=4.0, timestamp=863975949), RatingBase(userId=500, movieId=1, rating=4.0, timestamp=1005527755), RatingBase(userId=504, movieId=1, rating=4.0, timestamp=1063644695), RatingBase(userId=509, movieId=1, rating=4.0, timestamp=1435992343), RatingBase(userId=514, movieId=1, rating=4.0, timestamp=1533872400), RatingBase(userId=517, movieId=1, rating=4.0, timestamp=1487954343), RatingBase(userId=522, movieId=1, rating=3.0, timestamp=1253344674), RatingBase(userId=524, movieId=1, rating=4.0, timestamp=851608466), RatingBase(userId=525, movieId=1, rating=4.0, timestamp=1476475973), RatingBase(userId=528, movieId=1, rating=2.5, timestamp=1391736605), RatingBase(userId=529, movieId=1, rating=3.0, timestamp=855583216), RatingBase(userId=533, movieId=1, rating=5.0, timestamp=1424753740), RatingBase(userId=534, movieId=1, rating=4.0, timestamp=1459787997), RatingBase(userId=541, movieId=1, rating=3.0, timestamp=835643027), RatingBase(userId=544, movieId=1, rating=3.0, timestamp=850688537), RatingBase(userId=550, movieId=1, rating=4.0, timestamp=1488728441), RatingBase(userId=555, movieId=1, rating=4.0, timestamp=978746159), RatingBase(userId=559, movieId=1, rating=5.0, timestamp=865095758), RatingBase(userId=560, movieId=1, rating=3.0, timestamp=1469653413), RatingBase(userId=561, movieId=1, rating=4.0, timestamp=1491094681), RatingBase(userId=562, movieId=1, rating=4.5, timestamp=1368893997), RatingBase(userId=567, movieId=1, rating=3.5, timestamp=1525286001), RatingBase(userId=570, movieId=1, rating=4.0, timestamp=1181476989), RatingBase(userId=572, movieId=1, rating=4.0, timestamp=945892484), RatingBase(userId=573, movieId=1, rating=5.0, timestamp=1186722182), RatingBase(userId=579, movieId=1, rating=4.0, timestamp=958881146), RatingBase(userId=580, movieId=1, rating=3.0, timestamp=1167792349), RatingBase(userId=584, movieId=1, rating=5.0, timestamp=834987643), RatingBase(userId=587, movieId=1, rating=5.0, timestamp=953137847), RatingBase(userId=590, movieId=1, rating=4.0, timestamp=1258420408), RatingBase(userId=596, movieId=1, rating=4.0, timestamp=1535709666), RatingBase(userId=597, movieId=1, rating=4.0, timestamp=941557863), RatingBase(userId=599, movieId=1, rating=3.0, timestamp=1498524204), RatingBase(userId=600, movieId=1, rating=2.5, timestamp=1237764347), RatingBase(userId=601, movieId=1, rating=4.0, timestamp=1521467801), RatingBase(userId=603, movieId=1, rating=4.0, timestamp=963178147), RatingBase(userId=604, movieId=1, rating=3.0, timestamp=832079851), RatingBase(userId=605, movieId=1, rating=4.0, timestamp=1277097561), RatingBase(userId=606, movieId=1, rating=2.5, timestamp=1349082950), RatingBase(userId=607, movieId=1, rating=4.0, timestamp=964744033), RatingBase(userId=608, movieId=1, rating=2.5, timestamp=1117408267), RatingBase(userId=609, movieId=1, rating=3.0, timestamp=847221025), RatingBase(userId=610, movieId=1, rating=5.0, timestamp=1479542900)], tags=[TagBase(userId=336, movieId=1, tag='pixar', timestamp=1139045764), TagBase(userId=474, movieId=1, tag='pixar', timestamp=1137206825), TagBase(userId=567, movieId=1, tag='fun', timestamp=1525286013)], link=LinkBase(imdbId='0114709', tmdbId=862))"
      ]
     },
     "execution_count": 9,
     "metadata": {},
     "output_type": "execute_result"
    }
   ],
   "source": [
    "client.get_movie(1)"
   ]
  },
  {
   "cell_type": "code",
   "execution_count": 10,
   "id": "b03e391f",
   "metadata": {},
   "outputs": [
    {
     "name": "stdout",
     "output_type": "stream",
     "text": [
      "Chargement des données depuis le cache...\n"
     ]
    },
    {
     "data": {
      "application/vnd.plotly.v1+json": {
       "config": {
        "plotlyServerURL": "https://plot.ly"
       },
       "data": [
        {
         "hovertemplate": "Année=%{x}<br>Nombre de films=%{y}<extra></extra>",
         "legendgroup": "",
         "marker": {
          "color": "#636efa",
          "pattern": {
           "shape": ""
          }
         },
         "name": "",
         "orientation": "v",
         "showlegend": false,
         "textposition": "auto",
         "type": "bar",
         "x": {
          "bdata": "bgdvB3QHewd8B30HfweAB4EHggeDB4QHhQeGB4cHiAeJB4oHiweMB40HjgePB5AHkQeSB5MHlAeVB5YHlweYB5kHmgebB5wHnQeeB58HoAehB6IHowekB6UHpgenB6gHqQeqB6sHrAetB64HrwewB7EHsgezB7QHtQe2B7cHuAe5B7oHuwe8B70Hvge/B8AHwQfCB8MHxAfFB8YHxwfIB8kHygfLB8wHzQfOB88H0AfRB9IH0wfUB9UH1gfXB9gH2QfaB9sH3AfdB94H3wfgB+EH4gc=",
          "dtype": "i2"
         },
         "xaxis": "x",
         "y": {
          "bdata": "AQABAAEAAQAEAAEAAQACAAEAAQAEAAUABAAFAAcABAAEAAUADgAJAAwACwANABIAEAAPABcAGQASABcACgAQABEAFwAUABQAGQAVABYAEAAeABcAJAAeACEAHwAlACUAIgAoACcAKwAvACoAKgAqACMAIQAvACcAOgAtACoALAA/ADsARQBZAFwAVwBTAGUAfgCLAJkApQCOAJMAkwCnAMYA7QACARQBBAEBAQYBGwEmATcBFwEXAREBJwEaAQwBGgH3APwA6ADvABUBEgHaAJMAKQA=",
          "dtype": "i2"
         },
         "yaxis": "y"
        }
       ],
       "layout": {
        "barmode": "relative",
        "height": 500,
        "legend": {
         "tracegroupgap": 0
        },
        "template": {
         "data": {
          "bar": [
           {
            "error_x": {
             "color": "#2a3f5f"
            },
            "error_y": {
             "color": "#2a3f5f"
            },
            "marker": {
             "line": {
              "color": "#E5ECF6",
              "width": 0.5
             },
             "pattern": {
              "fillmode": "overlay",
              "size": 10,
              "solidity": 0.2
             }
            },
            "type": "bar"
           }
          ],
          "barpolar": [
           {
            "marker": {
             "line": {
              "color": "#E5ECF6",
              "width": 0.5
             },
             "pattern": {
              "fillmode": "overlay",
              "size": 10,
              "solidity": 0.2
             }
            },
            "type": "barpolar"
           }
          ],
          "carpet": [
           {
            "aaxis": {
             "endlinecolor": "#2a3f5f",
             "gridcolor": "white",
             "linecolor": "white",
             "minorgridcolor": "white",
             "startlinecolor": "#2a3f5f"
            },
            "baxis": {
             "endlinecolor": "#2a3f5f",
             "gridcolor": "white",
             "linecolor": "white",
             "minorgridcolor": "white",
             "startlinecolor": "#2a3f5f"
            },
            "type": "carpet"
           }
          ],
          "choropleth": [
           {
            "colorbar": {
             "outlinewidth": 0,
             "ticks": ""
            },
            "type": "choropleth"
           }
          ],
          "contour": [
           {
            "colorbar": {
             "outlinewidth": 0,
             "ticks": ""
            },
            "colorscale": [
             [
              0,
              "#0d0887"
             ],
             [
              0.1111111111111111,
              "#46039f"
             ],
             [
              0.2222222222222222,
              "#7201a8"
             ],
             [
              0.3333333333333333,
              "#9c179e"
             ],
             [
              0.4444444444444444,
              "#bd3786"
             ],
             [
              0.5555555555555556,
              "#d8576b"
             ],
             [
              0.6666666666666666,
              "#ed7953"
             ],
             [
              0.7777777777777778,
              "#fb9f3a"
             ],
             [
              0.8888888888888888,
              "#fdca26"
             ],
             [
              1,
              "#f0f921"
             ]
            ],
            "type": "contour"
           }
          ],
          "contourcarpet": [
           {
            "colorbar": {
             "outlinewidth": 0,
             "ticks": ""
            },
            "type": "contourcarpet"
           }
          ],
          "heatmap": [
           {
            "colorbar": {
             "outlinewidth": 0,
             "ticks": ""
            },
            "colorscale": [
             [
              0,
              "#0d0887"
             ],
             [
              0.1111111111111111,
              "#46039f"
             ],
             [
              0.2222222222222222,
              "#7201a8"
             ],
             [
              0.3333333333333333,
              "#9c179e"
             ],
             [
              0.4444444444444444,
              "#bd3786"
             ],
             [
              0.5555555555555556,
              "#d8576b"
             ],
             [
              0.6666666666666666,
              "#ed7953"
             ],
             [
              0.7777777777777778,
              "#fb9f3a"
             ],
             [
              0.8888888888888888,
              "#fdca26"
             ],
             [
              1,
              "#f0f921"
             ]
            ],
            "type": "heatmap"
           }
          ],
          "histogram": [
           {
            "marker": {
             "pattern": {
              "fillmode": "overlay",
              "size": 10,
              "solidity": 0.2
             }
            },
            "type": "histogram"
           }
          ],
          "histogram2d": [
           {
            "colorbar": {
             "outlinewidth": 0,
             "ticks": ""
            },
            "colorscale": [
             [
              0,
              "#0d0887"
             ],
             [
              0.1111111111111111,
              "#46039f"
             ],
             [
              0.2222222222222222,
              "#7201a8"
             ],
             [
              0.3333333333333333,
              "#9c179e"
             ],
             [
              0.4444444444444444,
              "#bd3786"
             ],
             [
              0.5555555555555556,
              "#d8576b"
             ],
             [
              0.6666666666666666,
              "#ed7953"
             ],
             [
              0.7777777777777778,
              "#fb9f3a"
             ],
             [
              0.8888888888888888,
              "#fdca26"
             ],
             [
              1,
              "#f0f921"
             ]
            ],
            "type": "histogram2d"
           }
          ],
          "histogram2dcontour": [
           {
            "colorbar": {
             "outlinewidth": 0,
             "ticks": ""
            },
            "colorscale": [
             [
              0,
              "#0d0887"
             ],
             [
              0.1111111111111111,
              "#46039f"
             ],
             [
              0.2222222222222222,
              "#7201a8"
             ],
             [
              0.3333333333333333,
              "#9c179e"
             ],
             [
              0.4444444444444444,
              "#bd3786"
             ],
             [
              0.5555555555555556,
              "#d8576b"
             ],
             [
              0.6666666666666666,
              "#ed7953"
             ],
             [
              0.7777777777777778,
              "#fb9f3a"
             ],
             [
              0.8888888888888888,
              "#fdca26"
             ],
             [
              1,
              "#f0f921"
             ]
            ],
            "type": "histogram2dcontour"
           }
          ],
          "mesh3d": [
           {
            "colorbar": {
             "outlinewidth": 0,
             "ticks": ""
            },
            "type": "mesh3d"
           }
          ],
          "parcoords": [
           {
            "line": {
             "colorbar": {
              "outlinewidth": 0,
              "ticks": ""
             }
            },
            "type": "parcoords"
           }
          ],
          "pie": [
           {
            "automargin": true,
            "type": "pie"
           }
          ],
          "scatter": [
           {
            "fillpattern": {
             "fillmode": "overlay",
             "size": 10,
             "solidity": 0.2
            },
            "type": "scatter"
           }
          ],
          "scatter3d": [
           {
            "line": {
             "colorbar": {
              "outlinewidth": 0,
              "ticks": ""
             }
            },
            "marker": {
             "colorbar": {
              "outlinewidth": 0,
              "ticks": ""
             }
            },
            "type": "scatter3d"
           }
          ],
          "scattercarpet": [
           {
            "marker": {
             "colorbar": {
              "outlinewidth": 0,
              "ticks": ""
             }
            },
            "type": "scattercarpet"
           }
          ],
          "scattergeo": [
           {
            "marker": {
             "colorbar": {
              "outlinewidth": 0,
              "ticks": ""
             }
            },
            "type": "scattergeo"
           }
          ],
          "scattergl": [
           {
            "marker": {
             "colorbar": {
              "outlinewidth": 0,
              "ticks": ""
             }
            },
            "type": "scattergl"
           }
          ],
          "scattermap": [
           {
            "marker": {
             "colorbar": {
              "outlinewidth": 0,
              "ticks": ""
             }
            },
            "type": "scattermap"
           }
          ],
          "scattermapbox": [
           {
            "marker": {
             "colorbar": {
              "outlinewidth": 0,
              "ticks": ""
             }
            },
            "type": "scattermapbox"
           }
          ],
          "scatterpolar": [
           {
            "marker": {
             "colorbar": {
              "outlinewidth": 0,
              "ticks": ""
             }
            },
            "type": "scatterpolar"
           }
          ],
          "scatterpolargl": [
           {
            "marker": {
             "colorbar": {
              "outlinewidth": 0,
              "ticks": ""
             }
            },
            "type": "scatterpolargl"
           }
          ],
          "scatterternary": [
           {
            "marker": {
             "colorbar": {
              "outlinewidth": 0,
              "ticks": ""
             }
            },
            "type": "scatterternary"
           }
          ],
          "surface": [
           {
            "colorbar": {
             "outlinewidth": 0,
             "ticks": ""
            },
            "colorscale": [
             [
              0,
              "#0d0887"
             ],
             [
              0.1111111111111111,
              "#46039f"
             ],
             [
              0.2222222222222222,
              "#7201a8"
             ],
             [
              0.3333333333333333,
              "#9c179e"
             ],
             [
              0.4444444444444444,
              "#bd3786"
             ],
             [
              0.5555555555555556,
              "#d8576b"
             ],
             [
              0.6666666666666666,
              "#ed7953"
             ],
             [
              0.7777777777777778,
              "#fb9f3a"
             ],
             [
              0.8888888888888888,
              "#fdca26"
             ],
             [
              1,
              "#f0f921"
             ]
            ],
            "type": "surface"
           }
          ],
          "table": [
           {
            "cells": {
             "fill": {
              "color": "#EBF0F8"
             },
             "line": {
              "color": "white"
             }
            },
            "header": {
             "fill": {
              "color": "#C8D4E3"
             },
             "line": {
              "color": "white"
             }
            },
            "type": "table"
           }
          ]
         },
         "layout": {
          "annotationdefaults": {
           "arrowcolor": "#2a3f5f",
           "arrowhead": 0,
           "arrowwidth": 1
          },
          "autotypenumbers": "strict",
          "coloraxis": {
           "colorbar": {
            "outlinewidth": 0,
            "ticks": ""
           }
          },
          "colorscale": {
           "diverging": [
            [
             0,
             "#8e0152"
            ],
            [
             0.1,
             "#c51b7d"
            ],
            [
             0.2,
             "#de77ae"
            ],
            [
             0.3,
             "#f1b6da"
            ],
            [
             0.4,
             "#fde0ef"
            ],
            [
             0.5,
             "#f7f7f7"
            ],
            [
             0.6,
             "#e6f5d0"
            ],
            [
             0.7,
             "#b8e186"
            ],
            [
             0.8,
             "#7fbc41"
            ],
            [
             0.9,
             "#4d9221"
            ],
            [
             1,
             "#276419"
            ]
           ],
           "sequential": [
            [
             0,
             "#0d0887"
            ],
            [
             0.1111111111111111,
             "#46039f"
            ],
            [
             0.2222222222222222,
             "#7201a8"
            ],
            [
             0.3333333333333333,
             "#9c179e"
            ],
            [
             0.4444444444444444,
             "#bd3786"
            ],
            [
             0.5555555555555556,
             "#d8576b"
            ],
            [
             0.6666666666666666,
             "#ed7953"
            ],
            [
             0.7777777777777778,
             "#fb9f3a"
            ],
            [
             0.8888888888888888,
             "#fdca26"
            ],
            [
             1,
             "#f0f921"
            ]
           ],
           "sequentialminus": [
            [
             0,
             "#0d0887"
            ],
            [
             0.1111111111111111,
             "#46039f"
            ],
            [
             0.2222222222222222,
             "#7201a8"
            ],
            [
             0.3333333333333333,
             "#9c179e"
            ],
            [
             0.4444444444444444,
             "#bd3786"
            ],
            [
             0.5555555555555556,
             "#d8576b"
            ],
            [
             0.6666666666666666,
             "#ed7953"
            ],
            [
             0.7777777777777778,
             "#fb9f3a"
            ],
            [
             0.8888888888888888,
             "#fdca26"
            ],
            [
             1,
             "#f0f921"
            ]
           ]
          },
          "colorway": [
           "#636efa",
           "#EF553B",
           "#00cc96",
           "#ab63fa",
           "#FFA15A",
           "#19d3f3",
           "#FF6692",
           "#B6E880",
           "#FF97FF",
           "#FECB52"
          ],
          "font": {
           "color": "#2a3f5f"
          },
          "geo": {
           "bgcolor": "white",
           "lakecolor": "white",
           "landcolor": "#E5ECF6",
           "showlakes": true,
           "showland": true,
           "subunitcolor": "white"
          },
          "hoverlabel": {
           "align": "left"
          },
          "hovermode": "closest",
          "mapbox": {
           "style": "light"
          },
          "paper_bgcolor": "white",
          "plot_bgcolor": "#E5ECF6",
          "polar": {
           "angularaxis": {
            "gridcolor": "white",
            "linecolor": "white",
            "ticks": ""
           },
           "bgcolor": "#E5ECF6",
           "radialaxis": {
            "gridcolor": "white",
            "linecolor": "white",
            "ticks": ""
           }
          },
          "scene": {
           "xaxis": {
            "backgroundcolor": "#E5ECF6",
            "gridcolor": "white",
            "gridwidth": 2,
            "linecolor": "white",
            "showbackground": true,
            "ticks": "",
            "zerolinecolor": "white"
           },
           "yaxis": {
            "backgroundcolor": "#E5ECF6",
            "gridcolor": "white",
            "gridwidth": 2,
            "linecolor": "white",
            "showbackground": true,
            "ticks": "",
            "zerolinecolor": "white"
           },
           "zaxis": {
            "backgroundcolor": "#E5ECF6",
            "gridcolor": "white",
            "gridwidth": 2,
            "linecolor": "white",
            "showbackground": true,
            "ticks": "",
            "zerolinecolor": "white"
           }
          },
          "shapedefaults": {
           "line": {
            "color": "#2a3f5f"
           }
          },
          "ternary": {
           "aaxis": {
            "gridcolor": "white",
            "linecolor": "white",
            "ticks": ""
           },
           "baxis": {
            "gridcolor": "white",
            "linecolor": "white",
            "ticks": ""
           },
           "bgcolor": "#E5ECF6",
           "caxis": {
            "gridcolor": "white",
            "linecolor": "white",
            "ticks": ""
           }
          },
          "title": {
           "x": 0.05
          },
          "xaxis": {
           "automargin": true,
           "gridcolor": "white",
           "linecolor": "white",
           "ticks": "",
           "title": {
            "standoff": 15
           },
           "zerolinecolor": "white",
           "zerolinewidth": 2
          },
          "yaxis": {
           "automargin": true,
           "gridcolor": "white",
           "linecolor": "white",
           "ticks": "",
           "title": {
            "standoff": 15
           },
           "zerolinecolor": "white",
           "zerolinewidth": 2
          }
         }
        },
        "title": {
         "text": "Nombre total de films par année (basé sur le titre)"
        },
        "xaxis": {
         "anchor": "y",
         "domain": [
          0,
          1
         ],
         "title": {
          "text": "Année"
         }
        },
        "yaxis": {
         "anchor": "x",
         "domain": [
          0,
          1
         ],
         "title": {
          "text": "Nombre de films"
         }
        }
       }
      }
     },
     "metadata": {},
     "output_type": "display_data"
    }
   ],
   "source": [
    "import re\n",
    "\n",
    "# === Dossiers ===\n",
    "output_dir = Path(\"output\")\n",
    "output_dir.mkdir(exist_ok=True)\n",
    "\n",
    "yearly_data_file = output_dir / \"movies_by_year.parquet\"\n",
    "meta_file = output_dir / \"meta_movies_by_year.json\"\n",
    "\n",
    "# === Récupération du nombre total de films via analytics ===\n",
    "#analytics = client.get_analytics()\n",
    "api_movie_count = analytics.movie_count\n",
    "\n",
    "# === Lecture du cache s’il existe ===\n",
    "if meta_file.exists():\n",
    "    with open(meta_file, \"r\") as f:\n",
    "        meta = json.load(f)\n",
    "    cached_movie_count = meta.get(\"movie_count\", 0)\n",
    "else:\n",
    "    cached_movie_count = 0\n",
    "\n",
    "# === Utilisation du cache ou recalcul ===\n",
    "if yearly_data_file.exists() and cached_movie_count == api_movie_count:\n",
    "    print(\"Chargement des données depuis le cache...\")\n",
    "    df_yearly = pd.read_parquet(yearly_data_file)\n",
    "\n",
    "else:\n",
    "    print(\"Extraction des années depuis l’API...\")\n",
    "\n",
    "    # === Initialisation ===\n",
    "    year_counter = Counter()\n",
    "    skip = 0\n",
    "    limit = 500\n",
    "    year_pattern = re.compile(r\"\\((\\d{4})\\)$\")\n",
    "\n",
    "    while True:\n",
    "        batch = client.list_movies(skip=skip, limit=limit, output_format=\"dict\")\n",
    "        if not batch:\n",
    "            break\n",
    "\n",
    "        for movie in batch:\n",
    "            title = movie.get(\"title\", \"\")\n",
    "            match = year_pattern.search(title)\n",
    "            if match:\n",
    "                year = int(match.group(1))\n",
    "                year_counter[year] += 1\n",
    "\n",
    "        skip += limit\n",
    "        time.sleep(0.5)\n",
    "\n",
    "    # === Construction du DataFrame ===\n",
    "    df_yearly = pd.DataFrame(sorted(year_counter.items()), columns=[\"year\", \"movie_count\"])\n",
    "\n",
    "    # === Sauvegarde du cache ===\n",
    "    df_yearly.to_parquet(yearly_data_file, index=False)\n",
    "    with open(meta_file, \"w\") as f:\n",
    "        json.dump({\"movie_count\": api_movie_count}, f)\n",
    "\n",
    "# === Affichage avec Plotly ===\n",
    "fig = px.bar(\n",
    "    df_yearly,\n",
    "    x=\"year\",\n",
    "    y=\"movie_count\",\n",
    "    title=\"Nombre total de films par année (basé sur le titre)\",\n",
    "    labels={\"year\": \"Année\", \"movie_count\": \"Nombre de films\"},\n",
    ")\n",
    "\n",
    "fig.update_layout(\n",
    "    xaxis_title=\"Année\",\n",
    "    yaxis_title=\"Nombre de films\",\n",
    "    height=500\n",
    ")\n",
    "\n",
    "fig.show()"
   ]
  },
  {
   "cell_type": "code",
   "execution_count": 11,
   "id": "56a65b6d",
   "metadata": {},
   "outputs": [
    {
     "data": {
      "text/html": [
       "<div>\n",
       "<style scoped>\n",
       "    .dataframe tbody tr th:only-of-type {\n",
       "        vertical-align: middle;\n",
       "    }\n",
       "\n",
       "    .dataframe tbody tr th {\n",
       "        vertical-align: top;\n",
       "    }\n",
       "\n",
       "    .dataframe thead th {\n",
       "        text-align: right;\n",
       "    }\n",
       "</style>\n",
       "<table border=\"1\" class=\"dataframe\">\n",
       "  <thead>\n",
       "    <tr style=\"text-align: right;\">\n",
       "      <th></th>\n",
       "      <th>year</th>\n",
       "      <th>movie_count</th>\n",
       "    </tr>\n",
       "  </thead>\n",
       "  <tbody>\n",
       "    <tr>\n",
       "      <th>0</th>\n",
       "      <td>1902</td>\n",
       "      <td>1</td>\n",
       "    </tr>\n",
       "    <tr>\n",
       "      <th>1</th>\n",
       "      <td>1903</td>\n",
       "      <td>1</td>\n",
       "    </tr>\n",
       "    <tr>\n",
       "      <th>2</th>\n",
       "      <td>1908</td>\n",
       "      <td>1</td>\n",
       "    </tr>\n",
       "    <tr>\n",
       "      <th>3</th>\n",
       "      <td>1915</td>\n",
       "      <td>1</td>\n",
       "    </tr>\n",
       "    <tr>\n",
       "      <th>4</th>\n",
       "      <td>1916</td>\n",
       "      <td>4</td>\n",
       "    </tr>\n",
       "    <tr>\n",
       "      <th>...</th>\n",
       "      <td>...</td>\n",
       "      <td>...</td>\n",
       "    </tr>\n",
       "    <tr>\n",
       "      <th>101</th>\n",
       "      <td>2014</td>\n",
       "      <td>277</td>\n",
       "    </tr>\n",
       "    <tr>\n",
       "      <th>102</th>\n",
       "      <td>2015</td>\n",
       "      <td>274</td>\n",
       "    </tr>\n",
       "    <tr>\n",
       "      <th>103</th>\n",
       "      <td>2016</td>\n",
       "      <td>218</td>\n",
       "    </tr>\n",
       "    <tr>\n",
       "      <th>104</th>\n",
       "      <td>2017</td>\n",
       "      <td>147</td>\n",
       "    </tr>\n",
       "    <tr>\n",
       "      <th>105</th>\n",
       "      <td>2018</td>\n",
       "      <td>41</td>\n",
       "    </tr>\n",
       "  </tbody>\n",
       "</table>\n",
       "<p>106 rows × 2 columns</p>\n",
       "</div>"
      ],
      "text/plain": [
       "     year  movie_count\n",
       "0    1902            1\n",
       "1    1903            1\n",
       "2    1908            1\n",
       "3    1915            1\n",
       "4    1916            4\n",
       "..    ...          ...\n",
       "101  2014          277\n",
       "102  2015          274\n",
       "103  2016          218\n",
       "104  2017          147\n",
       "105  2018           41\n",
       "\n",
       "[106 rows x 2 columns]"
      ]
     },
     "execution_count": 11,
     "metadata": {},
     "output_type": "execute_result"
    }
   ],
   "source": [
    "df_yearly"
   ]
  },
  {
   "cell_type": "markdown",
   "id": "3c4d9523",
   "metadata": {},
   "source": [
    "## Top 20 des films par nombre d'évaluations"
   ]
  },
  {
   "cell_type": "code",
   "execution_count": 12,
   "id": "a78e0b3c",
   "metadata": {},
   "outputs": [
    {
     "name": "stdout",
     "output_type": "stream",
     "text": [
      "Chargement des données depuis le cache...\n"
     ]
    },
    {
     "data": {
      "application/vnd.plotly.v1+json": {
       "config": {
        "plotlyServerURL": "https://plot.ly"
       },
       "data": [
        {
         "hovertemplate": "Nombre d'évaluations=%{x}<br>Titre du film=%{y}<br>Note moyenne=%{marker.color}<extra></extra>",
         "legendgroup": "",
         "marker": {
          "color": {
           "bdata": "bbLJJptsEEAUrkfhetQQQO6dZKkjxA5AUWDSqXmQC0Axa6GAjs0PQLq5ubm5ORBAc3Nzc3PzEECT/bWu0NwQQAvhdasQXg9AeOEgenwXEUBmZmZmZuYQQEmSJEmSxA9AQVQ6smcgEEAAAAAAAAAOQHKwiRuf7BBAqI9WkxDFEECllFJKKaUQQOlzt0zMyRBA6yGOkFG3EUA13L2sEqgQQA==",
           "dtype": "f8"
          },
          "coloraxis": "coloraxis",
          "pattern": {
           "shape": ""
          }
         },
         "name": "",
         "orientation": "h",
         "showlegend": false,
         "textposition": "auto",
         "type": "bar",
         "x": {
          "bdata": "xgDIAMkAygDLAMwAzADTANcA2gDcAOAA7QDuAPsAFgEXATMBPQFJAQ==",
          "dtype": "i2"
         },
         "xaxis": "x",
         "y": [
          "Lord of the Rings: The Fellowship of the Ring, The (2001)",
          "Raiders of the Lost Ark (Indiana Jones and the Raiders of the Lost Ark) (1981)",
          "Apollo 13 (1995)",
          "Independence Day (a.k.a. ID4) (1996)",
          "Seven (a.k.a. Se7en) (1995)",
          "American Beauty (1999)",
          "Usual Suspects, The (1995)",
          "Star Wars: Episode V - The Empire Strikes Back (1980)",
          "Toy Story (1995)",
          "Fight Club (1999)",
          "Schindler's List (1993)",
          "Terminator 2: Judgment Day (1991)",
          "Braveheart (1995)",
          "Jurassic Park (1993)",
          "Star Wars: Episode IV - A New Hope (1977)",
          "Matrix, The (1999)",
          "Silence of the Lambs, The (1991)",
          "Pulp Fiction (1994)",
          "Shawshank Redemption, The (1994)",
          "Forrest Gump (1994)"
         ],
         "yaxis": "y"
        }
       ],
       "layout": {
        "barmode": "relative",
        "coloraxis": {
         "colorbar": {
          "title": {
           "text": "Note moyenne"
          }
         },
         "colorscale": [
          [
           0,
           "#440154"
          ],
          [
           0.1111111111111111,
           "#482878"
          ],
          [
           0.2222222222222222,
           "#3e4989"
          ],
          [
           0.3333333333333333,
           "#31688e"
          ],
          [
           0.4444444444444444,
           "#26828e"
          ],
          [
           0.5555555555555556,
           "#1f9e89"
          ],
          [
           0.6666666666666666,
           "#35b779"
          ],
          [
           0.7777777777777778,
           "#6ece58"
          ],
          [
           0.8888888888888888,
           "#b5de2b"
          ],
          [
           1,
           "#fde725"
          ]
         ]
        },
        "height": 700,
        "legend": {
         "tracegroupgap": 0
        },
        "template": {
         "data": {
          "bar": [
           {
            "error_x": {
             "color": "#2a3f5f"
            },
            "error_y": {
             "color": "#2a3f5f"
            },
            "marker": {
             "line": {
              "color": "#E5ECF6",
              "width": 0.5
             },
             "pattern": {
              "fillmode": "overlay",
              "size": 10,
              "solidity": 0.2
             }
            },
            "type": "bar"
           }
          ],
          "barpolar": [
           {
            "marker": {
             "line": {
              "color": "#E5ECF6",
              "width": 0.5
             },
             "pattern": {
              "fillmode": "overlay",
              "size": 10,
              "solidity": 0.2
             }
            },
            "type": "barpolar"
           }
          ],
          "carpet": [
           {
            "aaxis": {
             "endlinecolor": "#2a3f5f",
             "gridcolor": "white",
             "linecolor": "white",
             "minorgridcolor": "white",
             "startlinecolor": "#2a3f5f"
            },
            "baxis": {
             "endlinecolor": "#2a3f5f",
             "gridcolor": "white",
             "linecolor": "white",
             "minorgridcolor": "white",
             "startlinecolor": "#2a3f5f"
            },
            "type": "carpet"
           }
          ],
          "choropleth": [
           {
            "colorbar": {
             "outlinewidth": 0,
             "ticks": ""
            },
            "type": "choropleth"
           }
          ],
          "contour": [
           {
            "colorbar": {
             "outlinewidth": 0,
             "ticks": ""
            },
            "colorscale": [
             [
              0,
              "#0d0887"
             ],
             [
              0.1111111111111111,
              "#46039f"
             ],
             [
              0.2222222222222222,
              "#7201a8"
             ],
             [
              0.3333333333333333,
              "#9c179e"
             ],
             [
              0.4444444444444444,
              "#bd3786"
             ],
             [
              0.5555555555555556,
              "#d8576b"
             ],
             [
              0.6666666666666666,
              "#ed7953"
             ],
             [
              0.7777777777777778,
              "#fb9f3a"
             ],
             [
              0.8888888888888888,
              "#fdca26"
             ],
             [
              1,
              "#f0f921"
             ]
            ],
            "type": "contour"
           }
          ],
          "contourcarpet": [
           {
            "colorbar": {
             "outlinewidth": 0,
             "ticks": ""
            },
            "type": "contourcarpet"
           }
          ],
          "heatmap": [
           {
            "colorbar": {
             "outlinewidth": 0,
             "ticks": ""
            },
            "colorscale": [
             [
              0,
              "#0d0887"
             ],
             [
              0.1111111111111111,
              "#46039f"
             ],
             [
              0.2222222222222222,
              "#7201a8"
             ],
             [
              0.3333333333333333,
              "#9c179e"
             ],
             [
              0.4444444444444444,
              "#bd3786"
             ],
             [
              0.5555555555555556,
              "#d8576b"
             ],
             [
              0.6666666666666666,
              "#ed7953"
             ],
             [
              0.7777777777777778,
              "#fb9f3a"
             ],
             [
              0.8888888888888888,
              "#fdca26"
             ],
             [
              1,
              "#f0f921"
             ]
            ],
            "type": "heatmap"
           }
          ],
          "histogram": [
           {
            "marker": {
             "pattern": {
              "fillmode": "overlay",
              "size": 10,
              "solidity": 0.2
             }
            },
            "type": "histogram"
           }
          ],
          "histogram2d": [
           {
            "colorbar": {
             "outlinewidth": 0,
             "ticks": ""
            },
            "colorscale": [
             [
              0,
              "#0d0887"
             ],
             [
              0.1111111111111111,
              "#46039f"
             ],
             [
              0.2222222222222222,
              "#7201a8"
             ],
             [
              0.3333333333333333,
              "#9c179e"
             ],
             [
              0.4444444444444444,
              "#bd3786"
             ],
             [
              0.5555555555555556,
              "#d8576b"
             ],
             [
              0.6666666666666666,
              "#ed7953"
             ],
             [
              0.7777777777777778,
              "#fb9f3a"
             ],
             [
              0.8888888888888888,
              "#fdca26"
             ],
             [
              1,
              "#f0f921"
             ]
            ],
            "type": "histogram2d"
           }
          ],
          "histogram2dcontour": [
           {
            "colorbar": {
             "outlinewidth": 0,
             "ticks": ""
            },
            "colorscale": [
             [
              0,
              "#0d0887"
             ],
             [
              0.1111111111111111,
              "#46039f"
             ],
             [
              0.2222222222222222,
              "#7201a8"
             ],
             [
              0.3333333333333333,
              "#9c179e"
             ],
             [
              0.4444444444444444,
              "#bd3786"
             ],
             [
              0.5555555555555556,
              "#d8576b"
             ],
             [
              0.6666666666666666,
              "#ed7953"
             ],
             [
              0.7777777777777778,
              "#fb9f3a"
             ],
             [
              0.8888888888888888,
              "#fdca26"
             ],
             [
              1,
              "#f0f921"
             ]
            ],
            "type": "histogram2dcontour"
           }
          ],
          "mesh3d": [
           {
            "colorbar": {
             "outlinewidth": 0,
             "ticks": ""
            },
            "type": "mesh3d"
           }
          ],
          "parcoords": [
           {
            "line": {
             "colorbar": {
              "outlinewidth": 0,
              "ticks": ""
             }
            },
            "type": "parcoords"
           }
          ],
          "pie": [
           {
            "automargin": true,
            "type": "pie"
           }
          ],
          "scatter": [
           {
            "fillpattern": {
             "fillmode": "overlay",
             "size": 10,
             "solidity": 0.2
            },
            "type": "scatter"
           }
          ],
          "scatter3d": [
           {
            "line": {
             "colorbar": {
              "outlinewidth": 0,
              "ticks": ""
             }
            },
            "marker": {
             "colorbar": {
              "outlinewidth": 0,
              "ticks": ""
             }
            },
            "type": "scatter3d"
           }
          ],
          "scattercarpet": [
           {
            "marker": {
             "colorbar": {
              "outlinewidth": 0,
              "ticks": ""
             }
            },
            "type": "scattercarpet"
           }
          ],
          "scattergeo": [
           {
            "marker": {
             "colorbar": {
              "outlinewidth": 0,
              "ticks": ""
             }
            },
            "type": "scattergeo"
           }
          ],
          "scattergl": [
           {
            "marker": {
             "colorbar": {
              "outlinewidth": 0,
              "ticks": ""
             }
            },
            "type": "scattergl"
           }
          ],
          "scattermap": [
           {
            "marker": {
             "colorbar": {
              "outlinewidth": 0,
              "ticks": ""
             }
            },
            "type": "scattermap"
           }
          ],
          "scattermapbox": [
           {
            "marker": {
             "colorbar": {
              "outlinewidth": 0,
              "ticks": ""
             }
            },
            "type": "scattermapbox"
           }
          ],
          "scatterpolar": [
           {
            "marker": {
             "colorbar": {
              "outlinewidth": 0,
              "ticks": ""
             }
            },
            "type": "scatterpolar"
           }
          ],
          "scatterpolargl": [
           {
            "marker": {
             "colorbar": {
              "outlinewidth": 0,
              "ticks": ""
             }
            },
            "type": "scatterpolargl"
           }
          ],
          "scatterternary": [
           {
            "marker": {
             "colorbar": {
              "outlinewidth": 0,
              "ticks": ""
             }
            },
            "type": "scatterternary"
           }
          ],
          "surface": [
           {
            "colorbar": {
             "outlinewidth": 0,
             "ticks": ""
            },
            "colorscale": [
             [
              0,
              "#0d0887"
             ],
             [
              0.1111111111111111,
              "#46039f"
             ],
             [
              0.2222222222222222,
              "#7201a8"
             ],
             [
              0.3333333333333333,
              "#9c179e"
             ],
             [
              0.4444444444444444,
              "#bd3786"
             ],
             [
              0.5555555555555556,
              "#d8576b"
             ],
             [
              0.6666666666666666,
              "#ed7953"
             ],
             [
              0.7777777777777778,
              "#fb9f3a"
             ],
             [
              0.8888888888888888,
              "#fdca26"
             ],
             [
              1,
              "#f0f921"
             ]
            ],
            "type": "surface"
           }
          ],
          "table": [
           {
            "cells": {
             "fill": {
              "color": "#EBF0F8"
             },
             "line": {
              "color": "white"
             }
            },
            "header": {
             "fill": {
              "color": "#C8D4E3"
             },
             "line": {
              "color": "white"
             }
            },
            "type": "table"
           }
          ]
         },
         "layout": {
          "annotationdefaults": {
           "arrowcolor": "#2a3f5f",
           "arrowhead": 0,
           "arrowwidth": 1
          },
          "autotypenumbers": "strict",
          "coloraxis": {
           "colorbar": {
            "outlinewidth": 0,
            "ticks": ""
           }
          },
          "colorscale": {
           "diverging": [
            [
             0,
             "#8e0152"
            ],
            [
             0.1,
             "#c51b7d"
            ],
            [
             0.2,
             "#de77ae"
            ],
            [
             0.3,
             "#f1b6da"
            ],
            [
             0.4,
             "#fde0ef"
            ],
            [
             0.5,
             "#f7f7f7"
            ],
            [
             0.6,
             "#e6f5d0"
            ],
            [
             0.7,
             "#b8e186"
            ],
            [
             0.8,
             "#7fbc41"
            ],
            [
             0.9,
             "#4d9221"
            ],
            [
             1,
             "#276419"
            ]
           ],
           "sequential": [
            [
             0,
             "#0d0887"
            ],
            [
             0.1111111111111111,
             "#46039f"
            ],
            [
             0.2222222222222222,
             "#7201a8"
            ],
            [
             0.3333333333333333,
             "#9c179e"
            ],
            [
             0.4444444444444444,
             "#bd3786"
            ],
            [
             0.5555555555555556,
             "#d8576b"
            ],
            [
             0.6666666666666666,
             "#ed7953"
            ],
            [
             0.7777777777777778,
             "#fb9f3a"
            ],
            [
             0.8888888888888888,
             "#fdca26"
            ],
            [
             1,
             "#f0f921"
            ]
           ],
           "sequentialminus": [
            [
             0,
             "#0d0887"
            ],
            [
             0.1111111111111111,
             "#46039f"
            ],
            [
             0.2222222222222222,
             "#7201a8"
            ],
            [
             0.3333333333333333,
             "#9c179e"
            ],
            [
             0.4444444444444444,
             "#bd3786"
            ],
            [
             0.5555555555555556,
             "#d8576b"
            ],
            [
             0.6666666666666666,
             "#ed7953"
            ],
            [
             0.7777777777777778,
             "#fb9f3a"
            ],
            [
             0.8888888888888888,
             "#fdca26"
            ],
            [
             1,
             "#f0f921"
            ]
           ]
          },
          "colorway": [
           "#636efa",
           "#EF553B",
           "#00cc96",
           "#ab63fa",
           "#FFA15A",
           "#19d3f3",
           "#FF6692",
           "#B6E880",
           "#FF97FF",
           "#FECB52"
          ],
          "font": {
           "color": "#2a3f5f"
          },
          "geo": {
           "bgcolor": "white",
           "lakecolor": "white",
           "landcolor": "#E5ECF6",
           "showlakes": true,
           "showland": true,
           "subunitcolor": "white"
          },
          "hoverlabel": {
           "align": "left"
          },
          "hovermode": "closest",
          "mapbox": {
           "style": "light"
          },
          "paper_bgcolor": "white",
          "plot_bgcolor": "#E5ECF6",
          "polar": {
           "angularaxis": {
            "gridcolor": "white",
            "linecolor": "white",
            "ticks": ""
           },
           "bgcolor": "#E5ECF6",
           "radialaxis": {
            "gridcolor": "white",
            "linecolor": "white",
            "ticks": ""
           }
          },
          "scene": {
           "xaxis": {
            "backgroundcolor": "#E5ECF6",
            "gridcolor": "white",
            "gridwidth": 2,
            "linecolor": "white",
            "showbackground": true,
            "ticks": "",
            "zerolinecolor": "white"
           },
           "yaxis": {
            "backgroundcolor": "#E5ECF6",
            "gridcolor": "white",
            "gridwidth": 2,
            "linecolor": "white",
            "showbackground": true,
            "ticks": "",
            "zerolinecolor": "white"
           },
           "zaxis": {
            "backgroundcolor": "#E5ECF6",
            "gridcolor": "white",
            "gridwidth": 2,
            "linecolor": "white",
            "showbackground": true,
            "ticks": "",
            "zerolinecolor": "white"
           }
          },
          "shapedefaults": {
           "line": {
            "color": "#2a3f5f"
           }
          },
          "ternary": {
           "aaxis": {
            "gridcolor": "white",
            "linecolor": "white",
            "ticks": ""
           },
           "baxis": {
            "gridcolor": "white",
            "linecolor": "white",
            "ticks": ""
           },
           "bgcolor": "#E5ECF6",
           "caxis": {
            "gridcolor": "white",
            "linecolor": "white",
            "ticks": ""
           }
          },
          "title": {
           "x": 0.05
          },
          "xaxis": {
           "automargin": true,
           "gridcolor": "white",
           "linecolor": "white",
           "ticks": "",
           "title": {
            "standoff": 15
           },
           "zerolinecolor": "white",
           "zerolinewidth": 2
          },
          "yaxis": {
           "automargin": true,
           "gridcolor": "white",
           "linecolor": "white",
           "ticks": "",
           "title": {
            "standoff": 15
           },
           "zerolinecolor": "white",
           "zerolinewidth": 2
          }
         }
        },
        "title": {
         "text": "Top 20 des films par nombre d'évaluations"
        },
        "xaxis": {
         "anchor": "y",
         "domain": [
          0,
          1
         ],
         "title": {
          "text": "Nombre d'évaluations"
         }
        },
        "yaxis": {
         "anchor": "x",
         "categoryorder": "total ascending",
         "domain": [
          0,
          1
         ],
         "title": {
          "text": "Titre du film"
         }
        }
       }
      }
     },
     "metadata": {},
     "output_type": "display_data"
    }
   ],
   "source": [
    "# === Dossiers ===\n",
    "#output_dir = Path(\"output\")\n",
    "#output_dir.mkdir(exist_ok=True)\n",
    "\n",
    "top_movies_file = output_dir / \"top_movies_by_ratings.parquet\"\n",
    "meta_file = output_dir / \"meta_top_movies.json\"\n",
    "\n",
    "# === Récupération des métriques API ===\n",
    "#analytics = client.get_analytics()\n",
    "api_movie_count = analytics.movie_count\n",
    "api_rating_count = analytics.rating_count\n",
    "\n",
    "# === Vérification du cache ===\n",
    "if meta_file.exists():\n",
    "    with open(meta_file, \"r\") as f:\n",
    "        meta = json.load(f)\n",
    "    cached_movie_count = meta.get(\"movie_count\", 0)\n",
    "    cached_rating_count = meta.get(\"rating_count\", 0)\n",
    "else:\n",
    "    cached_movie_count = 0\n",
    "    cached_rating_count = 0\n",
    "\n",
    "# === Utilisation du cache ou recalcul ===\n",
    "if (\n",
    "    top_movies_file.exists()\n",
    "    and cached_movie_count == api_movie_count\n",
    "    and cached_rating_count == api_rating_count\n",
    "):\n",
    "    print(\"Chargement des données depuis le cache...\")\n",
    "    top_movies_df = pd.read_parquet(top_movies_file)\n",
    "\n",
    "else:\n",
    "    print(\"Récupération des évaluations depuis l’API...\")\n",
    "\n",
    "    # === Initialisation des compteurs ===\n",
    "    movie_rating_count = defaultdict(int)\n",
    "    movie_rating_sum = defaultdict(float)\n",
    "\n",
    "    # === Batching des ratings ===\n",
    "    limit = 500\n",
    "    skip = 0\n",
    "\n",
    "    while True:\n",
    "        batch = client.list_ratings(skip=skip, limit=limit, output_format=\"dict\")\n",
    "        if not batch:\n",
    "            break\n",
    "\n",
    "        for rating in batch:\n",
    "            movie_id = rating[\"movieId\"]\n",
    "            score = rating[\"rating\"]\n",
    "            movie_rating_count[movie_id] += 1\n",
    "            movie_rating_sum[movie_id] += score\n",
    "\n",
    "        skip += limit\n",
    "        time.sleep(0.5)\n",
    "\n",
    "    # === Construction DataFrame des stats ===\n",
    "    stats = [\n",
    "        {\n",
    "            \"movieId\": movie_id,\n",
    "            \"rating_count\": movie_rating_count[movie_id],\n",
    "            \"avg_rating\": movie_rating_sum[movie_id] / movie_rating_count[movie_id]\n",
    "        }\n",
    "        for movie_id in movie_rating_count\n",
    "    ]\n",
    "\n",
    "    stats_df = pd.DataFrame(stats)\n",
    "    top_movies_df = stats_df.sort_values(\"rating_count\", ascending=False).head(20)\n",
    "\n",
    "    # === Ajout des titres de films via l’API ===\n",
    "    movie_titles = {}\n",
    "    for movie_id in top_movies_df[\"movieId\"]:\n",
    "        try:\n",
    "            movie_data = client.get_movie(movie_id)\n",
    "            movie_titles[movie_id] = movie_data.title\n",
    "        except Exception as e:\n",
    "            print(f\"Erreur récupération titre movieId {movie_id} : {e}\")\n",
    "            movie_titles[movie_id] = f\"Movie {movie_id}\"\n",
    "\n",
    "    top_movies_df[\"title\"] = top_movies_df[\"movieId\"].map(movie_titles)\n",
    "\n",
    "    # === Sauvegarde dans le cache ===\n",
    "    top_movies_df.to_parquet(top_movies_file, index=False)\n",
    "    with open(meta_file, \"w\") as f:\n",
    "        json.dump(\n",
    "            {\n",
    "                \"movie_count\": api_movie_count,\n",
    "                \"rating_count\": api_rating_count\n",
    "            },\n",
    "            f\n",
    "        )\n",
    "\n",
    "# === Affichage avec Plotly ===\n",
    "fig = px.bar(\n",
    "    top_movies_df.sort_values(\"rating_count\", ascending=True),  # Pour affichage de bas en haut\n",
    "    x=\"rating_count\",\n",
    "    y=\"title\",\n",
    "    color=\"avg_rating\",\n",
    "    orientation=\"h\",\n",
    "    title=\"Top 20 des films par nombre d'évaluations\",\n",
    "    labels={\n",
    "        \"title\": \"Titre du film\",\n",
    "        \"rating_count\": \"Nombre d'évaluations\",\n",
    "        \"avg_rating\": \"Note moyenne\"\n",
    "    },\n",
    "    color_continuous_scale=\"viridis\"\n",
    ")\n",
    "\n",
    "fig.update_layout(\n",
    "    yaxis={'categoryorder': 'total ascending'},\n",
    "    height=700\n",
    ")\n",
    "\n",
    "fig.show()"
   ]
  },
  {
   "cell_type": "markdown",
   "id": "a436d2f0",
   "metadata": {},
   "source": [
    "## Top tags utilisés par les utilisateurs de la plate-forme"
   ]
  },
  {
   "cell_type": "code",
   "execution_count": 13,
   "id": "1ea30e23",
   "metadata": {},
   "outputs": [
    {
     "name": "stdout",
     "output_type": "stream",
     "text": [
      "Recalcul : tags utilisés\n"
     ]
    },
    {
     "data": {
      "application/vnd.plotly.v1+json": {
       "config": {
        "plotlyServerURL": "https://plot.ly"
       },
       "data": [
        {
         "hovertemplate": "Nombre d’utilisations=%{marker.color}<br>Tag=%{y}<extra></extra>",
         "legendgroup": "",
         "marker": {
          "color": {
           "bdata": "gwAkABgAGAAXABcAFwAWABUAFQAVABUAFAATABMAEwASABAAEAAQAA==",
           "dtype": "i2"
          },
          "coloraxis": "coloraxis",
          "pattern": {
           "shape": ""
          }
         },
         "name": "",
         "orientation": "h",
         "showlegend": false,
         "textposition": "auto",
         "type": "bar",
         "x": {
          "bdata": "gwAkABgAGAAXABcAFwAWABUAFQAVABUAFAATABMAEwASABAAEAAQAA==",
          "dtype": "i2"
         },
         "xaxis": "x",
         "y": [
          "In Netflix queue",
          "atmospheric",
          "thought-provoking",
          "superhero",
          "surreal",
          "funny",
          "Disney",
          "religion",
          "quirky",
          "sci-fi",
          "dark comedy",
          "psychology",
          "suspense",
          "crime",
          "visually appealing",
          "twist ending",
          "politics",
          "music",
          "time travel",
          "mental illness"
         ],
         "yaxis": "y"
        }
       ],
       "layout": {
        "barmode": "relative",
        "coloraxis": {
         "colorbar": {
          "title": {
           "text": "Nombre d’utilisations"
          }
         },
         "colorscale": [
          [
           0,
           "#440154"
          ],
          [
           0.1111111111111111,
           "#482878"
          ],
          [
           0.2222222222222222,
           "#3e4989"
          ],
          [
           0.3333333333333333,
           "#31688e"
          ],
          [
           0.4444444444444444,
           "#26828e"
          ],
          [
           0.5555555555555556,
           "#1f9e89"
          ],
          [
           0.6666666666666666,
           "#35b779"
          ],
          [
           0.7777777777777778,
           "#6ece58"
          ],
          [
           0.8888888888888888,
           "#b5de2b"
          ],
          [
           1,
           "#fde725"
          ]
         ]
        },
        "legend": {
         "tracegroupgap": 0
        },
        "template": {
         "data": {
          "bar": [
           {
            "error_x": {
             "color": "#2a3f5f"
            },
            "error_y": {
             "color": "#2a3f5f"
            },
            "marker": {
             "line": {
              "color": "#E5ECF6",
              "width": 0.5
             },
             "pattern": {
              "fillmode": "overlay",
              "size": 10,
              "solidity": 0.2
             }
            },
            "type": "bar"
           }
          ],
          "barpolar": [
           {
            "marker": {
             "line": {
              "color": "#E5ECF6",
              "width": 0.5
             },
             "pattern": {
              "fillmode": "overlay",
              "size": 10,
              "solidity": 0.2
             }
            },
            "type": "barpolar"
           }
          ],
          "carpet": [
           {
            "aaxis": {
             "endlinecolor": "#2a3f5f",
             "gridcolor": "white",
             "linecolor": "white",
             "minorgridcolor": "white",
             "startlinecolor": "#2a3f5f"
            },
            "baxis": {
             "endlinecolor": "#2a3f5f",
             "gridcolor": "white",
             "linecolor": "white",
             "minorgridcolor": "white",
             "startlinecolor": "#2a3f5f"
            },
            "type": "carpet"
           }
          ],
          "choropleth": [
           {
            "colorbar": {
             "outlinewidth": 0,
             "ticks": ""
            },
            "type": "choropleth"
           }
          ],
          "contour": [
           {
            "colorbar": {
             "outlinewidth": 0,
             "ticks": ""
            },
            "colorscale": [
             [
              0,
              "#0d0887"
             ],
             [
              0.1111111111111111,
              "#46039f"
             ],
             [
              0.2222222222222222,
              "#7201a8"
             ],
             [
              0.3333333333333333,
              "#9c179e"
             ],
             [
              0.4444444444444444,
              "#bd3786"
             ],
             [
              0.5555555555555556,
              "#d8576b"
             ],
             [
              0.6666666666666666,
              "#ed7953"
             ],
             [
              0.7777777777777778,
              "#fb9f3a"
             ],
             [
              0.8888888888888888,
              "#fdca26"
             ],
             [
              1,
              "#f0f921"
             ]
            ],
            "type": "contour"
           }
          ],
          "contourcarpet": [
           {
            "colorbar": {
             "outlinewidth": 0,
             "ticks": ""
            },
            "type": "contourcarpet"
           }
          ],
          "heatmap": [
           {
            "colorbar": {
             "outlinewidth": 0,
             "ticks": ""
            },
            "colorscale": [
             [
              0,
              "#0d0887"
             ],
             [
              0.1111111111111111,
              "#46039f"
             ],
             [
              0.2222222222222222,
              "#7201a8"
             ],
             [
              0.3333333333333333,
              "#9c179e"
             ],
             [
              0.4444444444444444,
              "#bd3786"
             ],
             [
              0.5555555555555556,
              "#d8576b"
             ],
             [
              0.6666666666666666,
              "#ed7953"
             ],
             [
              0.7777777777777778,
              "#fb9f3a"
             ],
             [
              0.8888888888888888,
              "#fdca26"
             ],
             [
              1,
              "#f0f921"
             ]
            ],
            "type": "heatmap"
           }
          ],
          "histogram": [
           {
            "marker": {
             "pattern": {
              "fillmode": "overlay",
              "size": 10,
              "solidity": 0.2
             }
            },
            "type": "histogram"
           }
          ],
          "histogram2d": [
           {
            "colorbar": {
             "outlinewidth": 0,
             "ticks": ""
            },
            "colorscale": [
             [
              0,
              "#0d0887"
             ],
             [
              0.1111111111111111,
              "#46039f"
             ],
             [
              0.2222222222222222,
              "#7201a8"
             ],
             [
              0.3333333333333333,
              "#9c179e"
             ],
             [
              0.4444444444444444,
              "#bd3786"
             ],
             [
              0.5555555555555556,
              "#d8576b"
             ],
             [
              0.6666666666666666,
              "#ed7953"
             ],
             [
              0.7777777777777778,
              "#fb9f3a"
             ],
             [
              0.8888888888888888,
              "#fdca26"
             ],
             [
              1,
              "#f0f921"
             ]
            ],
            "type": "histogram2d"
           }
          ],
          "histogram2dcontour": [
           {
            "colorbar": {
             "outlinewidth": 0,
             "ticks": ""
            },
            "colorscale": [
             [
              0,
              "#0d0887"
             ],
             [
              0.1111111111111111,
              "#46039f"
             ],
             [
              0.2222222222222222,
              "#7201a8"
             ],
             [
              0.3333333333333333,
              "#9c179e"
             ],
             [
              0.4444444444444444,
              "#bd3786"
             ],
             [
              0.5555555555555556,
              "#d8576b"
             ],
             [
              0.6666666666666666,
              "#ed7953"
             ],
             [
              0.7777777777777778,
              "#fb9f3a"
             ],
             [
              0.8888888888888888,
              "#fdca26"
             ],
             [
              1,
              "#f0f921"
             ]
            ],
            "type": "histogram2dcontour"
           }
          ],
          "mesh3d": [
           {
            "colorbar": {
             "outlinewidth": 0,
             "ticks": ""
            },
            "type": "mesh3d"
           }
          ],
          "parcoords": [
           {
            "line": {
             "colorbar": {
              "outlinewidth": 0,
              "ticks": ""
             }
            },
            "type": "parcoords"
           }
          ],
          "pie": [
           {
            "automargin": true,
            "type": "pie"
           }
          ],
          "scatter": [
           {
            "fillpattern": {
             "fillmode": "overlay",
             "size": 10,
             "solidity": 0.2
            },
            "type": "scatter"
           }
          ],
          "scatter3d": [
           {
            "line": {
             "colorbar": {
              "outlinewidth": 0,
              "ticks": ""
             }
            },
            "marker": {
             "colorbar": {
              "outlinewidth": 0,
              "ticks": ""
             }
            },
            "type": "scatter3d"
           }
          ],
          "scattercarpet": [
           {
            "marker": {
             "colorbar": {
              "outlinewidth": 0,
              "ticks": ""
             }
            },
            "type": "scattercarpet"
           }
          ],
          "scattergeo": [
           {
            "marker": {
             "colorbar": {
              "outlinewidth": 0,
              "ticks": ""
             }
            },
            "type": "scattergeo"
           }
          ],
          "scattergl": [
           {
            "marker": {
             "colorbar": {
              "outlinewidth": 0,
              "ticks": ""
             }
            },
            "type": "scattergl"
           }
          ],
          "scattermap": [
           {
            "marker": {
             "colorbar": {
              "outlinewidth": 0,
              "ticks": ""
             }
            },
            "type": "scattermap"
           }
          ],
          "scattermapbox": [
           {
            "marker": {
             "colorbar": {
              "outlinewidth": 0,
              "ticks": ""
             }
            },
            "type": "scattermapbox"
           }
          ],
          "scatterpolar": [
           {
            "marker": {
             "colorbar": {
              "outlinewidth": 0,
              "ticks": ""
             }
            },
            "type": "scatterpolar"
           }
          ],
          "scatterpolargl": [
           {
            "marker": {
             "colorbar": {
              "outlinewidth": 0,
              "ticks": ""
             }
            },
            "type": "scatterpolargl"
           }
          ],
          "scatterternary": [
           {
            "marker": {
             "colorbar": {
              "outlinewidth": 0,
              "ticks": ""
             }
            },
            "type": "scatterternary"
           }
          ],
          "surface": [
           {
            "colorbar": {
             "outlinewidth": 0,
             "ticks": ""
            },
            "colorscale": [
             [
              0,
              "#0d0887"
             ],
             [
              0.1111111111111111,
              "#46039f"
             ],
             [
              0.2222222222222222,
              "#7201a8"
             ],
             [
              0.3333333333333333,
              "#9c179e"
             ],
             [
              0.4444444444444444,
              "#bd3786"
             ],
             [
              0.5555555555555556,
              "#d8576b"
             ],
             [
              0.6666666666666666,
              "#ed7953"
             ],
             [
              0.7777777777777778,
              "#fb9f3a"
             ],
             [
              0.8888888888888888,
              "#fdca26"
             ],
             [
              1,
              "#f0f921"
             ]
            ],
            "type": "surface"
           }
          ],
          "table": [
           {
            "cells": {
             "fill": {
              "color": "#EBF0F8"
             },
             "line": {
              "color": "white"
             }
            },
            "header": {
             "fill": {
              "color": "#C8D4E3"
             },
             "line": {
              "color": "white"
             }
            },
            "type": "table"
           }
          ]
         },
         "layout": {
          "annotationdefaults": {
           "arrowcolor": "#2a3f5f",
           "arrowhead": 0,
           "arrowwidth": 1
          },
          "autotypenumbers": "strict",
          "coloraxis": {
           "colorbar": {
            "outlinewidth": 0,
            "ticks": ""
           }
          },
          "colorscale": {
           "diverging": [
            [
             0,
             "#8e0152"
            ],
            [
             0.1,
             "#c51b7d"
            ],
            [
             0.2,
             "#de77ae"
            ],
            [
             0.3,
             "#f1b6da"
            ],
            [
             0.4,
             "#fde0ef"
            ],
            [
             0.5,
             "#f7f7f7"
            ],
            [
             0.6,
             "#e6f5d0"
            ],
            [
             0.7,
             "#b8e186"
            ],
            [
             0.8,
             "#7fbc41"
            ],
            [
             0.9,
             "#4d9221"
            ],
            [
             1,
             "#276419"
            ]
           ],
           "sequential": [
            [
             0,
             "#0d0887"
            ],
            [
             0.1111111111111111,
             "#46039f"
            ],
            [
             0.2222222222222222,
             "#7201a8"
            ],
            [
             0.3333333333333333,
             "#9c179e"
            ],
            [
             0.4444444444444444,
             "#bd3786"
            ],
            [
             0.5555555555555556,
             "#d8576b"
            ],
            [
             0.6666666666666666,
             "#ed7953"
            ],
            [
             0.7777777777777778,
             "#fb9f3a"
            ],
            [
             0.8888888888888888,
             "#fdca26"
            ],
            [
             1,
             "#f0f921"
            ]
           ],
           "sequentialminus": [
            [
             0,
             "#0d0887"
            ],
            [
             0.1111111111111111,
             "#46039f"
            ],
            [
             0.2222222222222222,
             "#7201a8"
            ],
            [
             0.3333333333333333,
             "#9c179e"
            ],
            [
             0.4444444444444444,
             "#bd3786"
            ],
            [
             0.5555555555555556,
             "#d8576b"
            ],
            [
             0.6666666666666666,
             "#ed7953"
            ],
            [
             0.7777777777777778,
             "#fb9f3a"
            ],
            [
             0.8888888888888888,
             "#fdca26"
            ],
            [
             1,
             "#f0f921"
            ]
           ]
          },
          "colorway": [
           "#636efa",
           "#EF553B",
           "#00cc96",
           "#ab63fa",
           "#FFA15A",
           "#19d3f3",
           "#FF6692",
           "#B6E880",
           "#FF97FF",
           "#FECB52"
          ],
          "font": {
           "color": "#2a3f5f"
          },
          "geo": {
           "bgcolor": "white",
           "lakecolor": "white",
           "landcolor": "#E5ECF6",
           "showlakes": true,
           "showland": true,
           "subunitcolor": "white"
          },
          "hoverlabel": {
           "align": "left"
          },
          "hovermode": "closest",
          "mapbox": {
           "style": "light"
          },
          "paper_bgcolor": "white",
          "plot_bgcolor": "#E5ECF6",
          "polar": {
           "angularaxis": {
            "gridcolor": "white",
            "linecolor": "white",
            "ticks": ""
           },
           "bgcolor": "#E5ECF6",
           "radialaxis": {
            "gridcolor": "white",
            "linecolor": "white",
            "ticks": ""
           }
          },
          "scene": {
           "xaxis": {
            "backgroundcolor": "#E5ECF6",
            "gridcolor": "white",
            "gridwidth": 2,
            "linecolor": "white",
            "showbackground": true,
            "ticks": "",
            "zerolinecolor": "white"
           },
           "yaxis": {
            "backgroundcolor": "#E5ECF6",
            "gridcolor": "white",
            "gridwidth": 2,
            "linecolor": "white",
            "showbackground": true,
            "ticks": "",
            "zerolinecolor": "white"
           },
           "zaxis": {
            "backgroundcolor": "#E5ECF6",
            "gridcolor": "white",
            "gridwidth": 2,
            "linecolor": "white",
            "showbackground": true,
            "ticks": "",
            "zerolinecolor": "white"
           }
          },
          "shapedefaults": {
           "line": {
            "color": "#2a3f5f"
           }
          },
          "ternary": {
           "aaxis": {
            "gridcolor": "white",
            "linecolor": "white",
            "ticks": ""
           },
           "baxis": {
            "gridcolor": "white",
            "linecolor": "white",
            "ticks": ""
           },
           "bgcolor": "#E5ECF6",
           "caxis": {
            "gridcolor": "white",
            "linecolor": "white",
            "ticks": ""
           }
          },
          "title": {
           "x": 0.05
          },
          "xaxis": {
           "automargin": true,
           "gridcolor": "white",
           "linecolor": "white",
           "ticks": "",
           "title": {
            "standoff": 15
           },
           "zerolinecolor": "white",
           "zerolinewidth": 2
          },
          "yaxis": {
           "automargin": true,
           "gridcolor": "white",
           "linecolor": "white",
           "ticks": "",
           "title": {
            "standoff": 15
           },
           "zerolinecolor": "white",
           "zerolinewidth": 2
          }
         }
        },
        "title": {
         "text": "Top tags utilisés par les utilisateurs"
        },
        "xaxis": {
         "anchor": "y",
         "domain": [
          0,
          1
         ],
         "title": {
          "text": "Nombre d’utilisations"
         }
        },
        "yaxis": {
         "anchor": "x",
         "categoryorder": "total ascending",
         "domain": [
          0,
          1
         ],
         "title": {
          "text": "Tag"
         }
        }
       }
      }
     },
     "metadata": {},
     "output_type": "display_data"
    }
   ],
   "source": [
    "#output_dir = Path(\"output\")\n",
    "#output_dir.mkdir(exist_ok=True)\n",
    "\n",
    "tag_usage_file = output_dir / \"user_tag_stats.parquet\"\n",
    "meta_file = output_dir / \"meta_users_behavior.json\"\n",
    "\n",
    "# Récupération des métriques d’API pour surveiller les changements :\n",
    "#analytics = client.get_analytics()\n",
    "api_rating_count = analytics.rating_count\n",
    "api_tag_count = analytics.tag_count\n",
    "\n",
    "if meta_file.exists():\n",
    "    with open(meta_file, \"r\") as f:\n",
    "        meta = json.load(f)\n",
    "else:\n",
    "    meta = {}\n",
    "\n",
    "cached_rating_count = meta.get(\"rating_count\", 0)\n",
    "cached_tag_count = meta.get(\"tag_count\", 0)\n",
    "\n",
    "\n",
    "# Tags souvent utilisés par certains utilisateurs\n",
    "\n",
    "if tag_usage_file.exists() and cached_tag_count == api_tag_count:\n",
    "    print(\"Chargement du cache : tags utilisés\")\n",
    "    tag_df = pd.read_parquet(tag_usage_file)\n",
    "else:\n",
    "    print(\"Recalcul : tags utilisés\")\n",
    "    tag_counter = Counter()\n",
    "    limit = 500\n",
    "    skip = 0\n",
    "\n",
    "    while True:\n",
    "        batch = client.list_tags(skip=skip, limit=limit, output_format=\"dict\")\n",
    "        if not batch:\n",
    "            break\n",
    "        for tag in batch:\n",
    "            tag_text = tag.get(\"tag\", \"\")\n",
    "            tag_counter[tag_text] += 1\n",
    "        skip += limit\n",
    "        time.sleep(0.5)\n",
    "\n",
    "    tag_df = pd.DataFrame(tag_counter.items(), columns=[\"tag\", \"count\"])\n",
    "    tag_df = tag_df[tag_df[\"tag\"].str.strip() != \"\"]\n",
    "    tag_df = tag_df.sort_values(\"count\", ascending=False).head(20)\n",
    "    tag_df.to_parquet(tag_usage_file, index=False)\n",
    "\n",
    "fig4 = px.bar(\n",
    "    tag_df, x=\"count\", y=\"tag\", orientation=\"h\",\n",
    "    title=\"Top tags utilisés par les utilisateurs\",\n",
    "    labels={\"count\": \"Nombre d’utilisations\", \"tag\": \"Tag\"},\n",
    "    color=\"count\", color_continuous_scale=\"viridis\"\n",
    ")\n",
    "fig4.update_layout(yaxis={'categoryorder': 'total ascending'})\n",
    "fig4.show()\n",
    "\n",
    "with open(meta_file, \"w\") as f:\n",
    "    json.dump({\n",
    "        \"rating_count\": api_rating_count,\n",
    "        \"tag_count\": api_tag_count\n",
    "    }, f)"
   ]
  },
  {
   "cell_type": "code",
   "execution_count": 14,
   "id": "674aa294",
   "metadata": {},
   "outputs": [
    {
     "data": {
      "text/html": [
       "<div>\n",
       "<style scoped>\n",
       "    .dataframe tbody tr th:only-of-type {\n",
       "        vertical-align: middle;\n",
       "    }\n",
       "\n",
       "    .dataframe tbody tr th {\n",
       "        vertical-align: top;\n",
       "    }\n",
       "\n",
       "    .dataframe thead th {\n",
       "        text-align: right;\n",
       "    }\n",
       "</style>\n",
       "<table border=\"1\" class=\"dataframe\">\n",
       "  <thead>\n",
       "    <tr style=\"text-align: right;\">\n",
       "      <th></th>\n",
       "      <th>tag</th>\n",
       "      <th>count</th>\n",
       "    </tr>\n",
       "  </thead>\n",
       "  <tbody>\n",
       "    <tr>\n",
       "      <th>600</th>\n",
       "      <td>In Netflix queue</td>\n",
       "      <td>131</td>\n",
       "    </tr>\n",
       "    <tr>\n",
       "      <th>72</th>\n",
       "      <td>atmospheric</td>\n",
       "      <td>36</td>\n",
       "    </tr>\n",
       "    <tr>\n",
       "      <th>371</th>\n",
       "      <td>thought-provoking</td>\n",
       "      <td>24</td>\n",
       "    </tr>\n",
       "    <tr>\n",
       "      <th>83</th>\n",
       "      <td>superhero</td>\n",
       "      <td>24</td>\n",
       "    </tr>\n",
       "    <tr>\n",
       "      <th>144</th>\n",
       "      <td>surreal</td>\n",
       "      <td>23</td>\n",
       "    </tr>\n",
       "    <tr>\n",
       "      <th>0</th>\n",
       "      <td>funny</td>\n",
       "      <td>23</td>\n",
       "    </tr>\n",
       "    <tr>\n",
       "      <th>57</th>\n",
       "      <td>Disney</td>\n",
       "      <td>23</td>\n",
       "    </tr>\n",
       "    <tr>\n",
       "      <th>758</th>\n",
       "      <td>religion</td>\n",
       "      <td>22</td>\n",
       "    </tr>\n",
       "    <tr>\n",
       "      <th>53</th>\n",
       "      <td>quirky</td>\n",
       "      <td>21</td>\n",
       "    </tr>\n",
       "    <tr>\n",
       "      <th>29</th>\n",
       "      <td>sci-fi</td>\n",
       "      <td>21</td>\n",
       "    </tr>\n",
       "    <tr>\n",
       "      <th>46</th>\n",
       "      <td>dark comedy</td>\n",
       "      <td>21</td>\n",
       "    </tr>\n",
       "    <tr>\n",
       "      <th>365</th>\n",
       "      <td>psychology</td>\n",
       "      <td>21</td>\n",
       "    </tr>\n",
       "    <tr>\n",
       "      <th>330</th>\n",
       "      <td>suspense</td>\n",
       "      <td>20</td>\n",
       "    </tr>\n",
       "    <tr>\n",
       "      <th>589</th>\n",
       "      <td>crime</td>\n",
       "      <td>19</td>\n",
       "    </tr>\n",
       "    <tr>\n",
       "      <th>124</th>\n",
       "      <td>visually appealing</td>\n",
       "      <td>19</td>\n",
       "    </tr>\n",
       "    <tr>\n",
       "      <th>16</th>\n",
       "      <td>twist ending</td>\n",
       "      <td>19</td>\n",
       "    </tr>\n",
       "    <tr>\n",
       "      <th>246</th>\n",
       "      <td>politics</td>\n",
       "      <td>18</td>\n",
       "    </tr>\n",
       "    <tr>\n",
       "      <th>21</th>\n",
       "      <td>music</td>\n",
       "      <td>16</td>\n",
       "    </tr>\n",
       "    <tr>\n",
       "      <th>325</th>\n",
       "      <td>time travel</td>\n",
       "      <td>16</td>\n",
       "    </tr>\n",
       "    <tr>\n",
       "      <th>523</th>\n",
       "      <td>mental illness</td>\n",
       "      <td>16</td>\n",
       "    </tr>\n",
       "  </tbody>\n",
       "</table>\n",
       "</div>"
      ],
      "text/plain": [
       "                    tag  count\n",
       "600    In Netflix queue    131\n",
       "72          atmospheric     36\n",
       "371   thought-provoking     24\n",
       "83            superhero     24\n",
       "144             surreal     23\n",
       "0                 funny     23\n",
       "57               Disney     23\n",
       "758            religion     22\n",
       "53               quirky     21\n",
       "29               sci-fi     21\n",
       "46          dark comedy     21\n",
       "365          psychology     21\n",
       "330            suspense     20\n",
       "589               crime     19\n",
       "124  visually appealing     19\n",
       "16         twist ending     19\n",
       "246            politics     18\n",
       "21                music     16\n",
       "325         time travel     16\n",
       "523      mental illness     16"
      ]
     },
     "execution_count": 14,
     "metadata": {},
     "output_type": "execute_result"
    }
   ],
   "source": [
    "tag_df"
   ]
  },
  {
   "cell_type": "markdown",
   "id": "c3912ddf",
   "metadata": {},
   "source": [
    "## Autres Insights sur les Tags"
   ]
  },
  {
   "cell_type": "code",
   "execution_count": 16,
   "id": "470d7a0a",
   "metadata": {},
   "outputs": [],
   "source": [
    "import pickle\n",
    "import os\n",
    "\n",
    "analytics_path = os.path.join(output_dir, \"analytics.pkl\")\n",
    "tags_by_genre_path = os.path.join(output_dir, \"tags_by_genre.parquet\")\n",
    "tags_good_rating_path = os.path.join(output_dir, \"tags_good_rating.parquet\")\n",
    "tags_compare_path = os.path.join(output_dir, \"tags_compare.parquet\")\n",
    "\n",
    "# Récupérer les statistiques actuelles de l’API\n",
    "current_stats = client.get_analytics().__dict__\n",
    "\n",
    "# Fonction utilitaire pour charger ou recalculer un cache\n",
    "def use_or_generate(path, current_stats, compute_fn):\n",
    "    if os.path.exists(path) and os.path.exists(analytics_path):\n",
    "        with open(analytics_path, \"rb\") as f:\n",
    "            saved_stats = pickle.load(f)\n",
    "        if saved_stats == current_stats:\n",
    "            return pd.read_parquet(path)\n",
    "\n",
    "    df = compute_fn()\n",
    "    df.to_parquet(path, index=False)\n",
    "    with open(analytics_path, \"wb\") as f:\n",
    "        pickle.dump(current_stats, f)\n",
    "    return df\n",
    "\n",
    "# -------------------------------\n",
    "# 1. Tags les plus utilisés par genre\n",
    "# -------------------------------\n",
    "def compute_tags_by_genre():\n",
    "    genre_tag_counter = defaultdict(Counter)\n",
    "\n",
    "    # Chargement par lots\n",
    "    skip = 0\n",
    "    limit = 500\n",
    "    while True:\n",
    "        movies = client.list_movies(skip=skip, limit=limit, output_format=\"dict\")\n",
    "        if not movies:\n",
    "            break\n",
    "        movie_dict = {m[\"movieId\"]: m[\"genres\"].split(\"|\") if m[\"genres\"] else [] for m in movies}\n",
    "        \n",
    "        tags = client.list_tags(skip=skip, limit=limit, output_format=\"dict\")\n",
    "        for tag in tags:\n",
    "            genres = movie_dict.get(tag[\"movieId\"], [])\n",
    "            for genre in genres:\n",
    "                genre_tag_counter[genre][tag[\"tag\"]] += 1\n",
    "\n",
    "        skip += limit\n",
    "        time.sleep(0.5)\n",
    "\n",
    "    records = []\n",
    "    for genre, tag_counter in genre_tag_counter.items():\n",
    "        for tag, count in tag_counter.items():\n",
    "            records.append({\"genre\": genre, \"tag\": tag, \"count\": count})\n",
    "    df = pd.DataFrame(records)\n",
    "    df = df.sort_values([\"genre\", \"count\"], ascending=[True, False])\n",
    "    return df"
   ]
  },
  {
   "cell_type": "code",
   "execution_count": 17,
   "id": "4eab1a74",
   "metadata": {},
   "outputs": [
    {
     "name": "stderr",
     "output_type": "stream",
     "text": [
      "C:\\Users\\johan\\AppData\\Local\\Temp\\ipykernel_23160\\1985951179.py:3: FutureWarning:\n",
      "\n",
      "DataFrameGroupBy.apply operated on the grouping columns. This behavior is deprecated, and in a future version of pandas the grouping columns will be excluded from the operation. Either pass `include_groups=False` to exclude the groupings or explicitly select the grouping columns after groupby to silence this warning.\n",
      "\n"
     ]
    },
    {
     "data": {
      "text/html": [
       "<div>\n",
       "<style scoped>\n",
       "    .dataframe tbody tr th:only-of-type {\n",
       "        vertical-align: middle;\n",
       "    }\n",
       "\n",
       "    .dataframe tbody tr th {\n",
       "        vertical-align: top;\n",
       "    }\n",
       "\n",
       "    .dataframe thead th {\n",
       "        text-align: right;\n",
       "    }\n",
       "</style>\n",
       "<table border=\"1\" class=\"dataframe\">\n",
       "  <thead>\n",
       "    <tr style=\"text-align: right;\">\n",
       "      <th></th>\n",
       "      <th>genre</th>\n",
       "      <th>tag</th>\n",
       "      <th>count</th>\n",
       "    </tr>\n",
       "  </thead>\n",
       "  <tbody>\n",
       "    <tr>\n",
       "      <th>290</th>\n",
       "      <td>Action</td>\n",
       "      <td>sci-fi</td>\n",
       "      <td>4</td>\n",
       "    </tr>\n",
       "    <tr>\n",
       "      <th>325</th>\n",
       "      <td>Action</td>\n",
       "      <td>superhero</td>\n",
       "      <td>4</td>\n",
       "    </tr>\n",
       "    <tr>\n",
       "      <th>309</th>\n",
       "      <td>Action</td>\n",
       "      <td>aliens</td>\n",
       "      <td>3</td>\n",
       "    </tr>\n",
       "    <tr>\n",
       "      <th>342</th>\n",
       "      <td>Action</td>\n",
       "      <td>boxing</td>\n",
       "      <td>3</td>\n",
       "    </tr>\n",
       "    <tr>\n",
       "      <th>287</th>\n",
       "      <td>Action</td>\n",
       "      <td>classic</td>\n",
       "      <td>2</td>\n",
       "    </tr>\n",
       "    <tr>\n",
       "      <th>...</th>\n",
       "      <td>...</td>\n",
       "      <td>...</td>\n",
       "      <td>...</td>\n",
       "    </tr>\n",
       "    <tr>\n",
       "      <th>735</th>\n",
       "      <td>Western</td>\n",
       "      <td>James Fennimore Cooper</td>\n",
       "      <td>1</td>\n",
       "    </tr>\n",
       "    <tr>\n",
       "      <th>736</th>\n",
       "      <td>Western</td>\n",
       "      <td>music</td>\n",
       "      <td>1</td>\n",
       "    </tr>\n",
       "    <tr>\n",
       "      <th>737</th>\n",
       "      <td>Western</td>\n",
       "      <td>dark humor</td>\n",
       "      <td>1</td>\n",
       "    </tr>\n",
       "    <tr>\n",
       "      <th>738</th>\n",
       "      <td>Western</td>\n",
       "      <td>easygoing</td>\n",
       "      <td>1</td>\n",
       "    </tr>\n",
       "    <tr>\n",
       "      <th>739</th>\n",
       "      <td>Western</td>\n",
       "      <td>silly</td>\n",
       "      <td>1</td>\n",
       "    </tr>\n",
       "  </tbody>\n",
       "</table>\n",
       "<p>765 rows × 3 columns</p>\n",
       "</div>"
      ],
      "text/plain": [
       "       genre                     tag  count\n",
       "290   Action                  sci-fi      4\n",
       "325   Action               superhero      4\n",
       "309   Action                  aliens      3\n",
       "342   Action                  boxing      3\n",
       "287   Action                 classic      2\n",
       "..       ...                     ...    ...\n",
       "735  Western  James Fennimore Cooper      1\n",
       "736  Western                   music      1\n",
       "737  Western              dark humor      1\n",
       "738  Western               easygoing      1\n",
       "739  Western                   silly      1\n",
       "\n",
       "[765 rows x 3 columns]"
      ]
     },
     "execution_count": 17,
     "metadata": {},
     "output_type": "execute_result"
    }
   ],
   "source": [
    "tags_by_genre_df = use_or_generate(tags_by_genre_path, current_stats, compute_tags_by_genre)\n",
    "# Top 3 tags par genre\n",
    "top_tags_by_genre = tags_by_genre_df.groupby(\"genre\").apply(lambda g: g.nlargest(3, 'count')).reset_index(drop=True)\n",
    "# Concatène genre + tag pour lisibilité\n",
    "top_tags_by_genre[\"tag_label\"] = top_tags_by_genre[\"tag\"] + \" (\" + top_tags_by_genre[\"genre\"] + \")\"\n",
    "tags_by_genre_df"
   ]
  },
  {
   "cell_type": "code",
   "execution_count": 18,
   "id": "c67ba7f2",
   "metadata": {},
   "outputs": [
    {
     "data": {
      "application/vnd.plotly.v1+json": {
       "config": {
        "plotlyServerURL": "https://plot.ly"
       },
       "data": [
        {
         "hovertemplate": "genre=Animation<br>Nombre d'occurrences=%{x}<br>Tag (Genre)=%{y}<extra></extra>",
         "legendgroup": "Animation",
         "marker": {
          "color": "#636efa",
          "pattern": {
           "shape": ""
          }
         },
         "name": "Animation",
         "orientation": "h",
         "showlegend": true,
         "textposition": "auto",
         "type": "bar",
         "x": {
          "bdata": "AQED",
          "dtype": "i1"
         },
         "xaxis": "x",
         "y": [
          "Tolkein (Animation)",
          "mice (Animation)",
          "Disney (Animation)"
         ],
         "yaxis": "y"
        },
        {
         "hovertemplate": "genre=Children<br>Nombre d'occurrences=%{x}<br>Tag (Genre)=%{y}<extra></extra>",
         "legendgroup": "Children",
         "marker": {
          "color": "#EF553B",
          "pattern": {
           "shape": ""
          }
         },
         "name": "Children",
         "orientation": "h",
         "showlegend": true,
         "textposition": "auto",
         "type": "bar",
         "x": {
          "bdata": "AQEE",
          "dtype": "i1"
         },
         "xaxis": "x",
         "y": [
          "magic board game (Children)",
          "fantasy (Children)",
          "Disney (Children)"
         ],
         "yaxis": "y"
        },
        {
         "hovertemplate": "genre=Film-Noir<br>Nombre d'occurrences=%{x}<br>Tag (Genre)=%{y}<extra></extra>",
         "legendgroup": "Film-Noir",
         "marker": {
          "color": "#00cc96",
          "pattern": {
           "shape": ""
          }
         },
         "name": "Film-Noir",
         "orientation": "h",
         "showlegend": true,
         "textposition": "auto",
         "type": "bar",
         "x": {
          "bdata": "AQEB",
          "dtype": "i1"
         },
         "xaxis": "x",
         "y": [
          "amnesia (Film-Noir)",
          "memory (Film-Noir)",
          "Police (Film-Noir)"
         ],
         "yaxis": "y"
        },
        {
         "hovertemplate": "genre=Documentary<br>Nombre d'occurrences=%{x}<br>Tag (Genre)=%{y}<extra></extra>",
         "legendgroup": "Documentary",
         "marker": {
          "color": "#ab63fa",
          "pattern": {
           "shape": ""
          }
         },
         "name": "Documentary",
         "orientation": "h",
         "showlegend": true,
         "textposition": "auto",
         "type": "bar",
         "x": {
          "bdata": "AQEC",
          "dtype": "i1"
         },
         "xaxis": "x",
         "y": [
          "Michigan (Documentary)",
          "General Motors (Documentary)",
          "In Netflix queue (Documentary)"
         ],
         "yaxis": "y"
        },
        {
         "hovertemplate": "genre=Fantasy<br>Nombre d'occurrences=%{x}<br>Tag (Genre)=%{y}<extra></extra>",
         "legendgroup": "Fantasy",
         "marker": {
          "color": "#FFA15A",
          "pattern": {
           "shape": ""
          }
         },
         "name": "Fantasy",
         "orientation": "h",
         "showlegend": true,
         "textposition": "auto",
         "type": "bar",
         "x": {
          "bdata": "AQEB",
          "dtype": "i1"
         },
         "xaxis": "x",
         "y": [
          "fantasy (Fantasy)",
          "magic board game (Fantasy)",
          "Robin Williams (Fantasy)"
         ],
         "yaxis": "y"
        },
        {
         "hovertemplate": "genre=Western<br>Nombre d'occurrences=%{x}<br>Tag (Genre)=%{y}<extra></extra>",
         "legendgroup": "Western",
         "marker": {
          "color": "#19d3f3",
          "pattern": {
           "shape": ""
          }
         },
         "name": "Western",
         "orientation": "h",
         "showlegend": true,
         "textposition": "auto",
         "type": "bar",
         "x": {
          "bdata": "AQEB",
          "dtype": "i1"
         },
         "xaxis": "x",
         "y": [
          "James Fennimore Cooper (Western)",
          "crime (Western)",
          "Hawkeye (Western)"
         ],
         "yaxis": "y"
        },
        {
         "hovertemplate": "genre=Musical<br>Nombre d'occurrences=%{x}<br>Tag (Genre)=%{y}<extra></extra>",
         "legendgroup": "Musical",
         "marker": {
          "color": "#FF6692",
          "pattern": {
           "shape": ""
          }
         },
         "name": "Musical",
         "orientation": "h",
         "showlegend": true,
         "textposition": "auto",
         "type": "bar",
         "x": {
          "bdata": "AQEC",
          "dtype": "i1"
         },
         "xaxis": "x",
         "y": [
          "Disney (Musical)",
          "Andrew Lloyd Weber (Musical)",
          "high school (Musical)"
         ],
         "yaxis": "y"
        },
        {
         "hovertemplate": "genre=IMAX<br>Nombre d'occurrences=%{x}<br>Tag (Genre)=%{y}<extra></extra>",
         "legendgroup": "IMAX",
         "marker": {
          "color": "#B6E880",
          "pattern": {
           "shape": ""
          }
         },
         "name": "IMAX",
         "orientation": "h",
         "showlegend": true,
         "textposition": "auto",
         "type": "bar",
         "x": {
          "bdata": "AQ==",
          "dtype": "i1"
         },
         "xaxis": "x",
         "y": [
          "In Netflix queue (IMAX)"
         ],
         "yaxis": "y"
        },
        {
         "hovertemplate": "genre=War<br>Nombre d'occurrences=%{x}<br>Tag (Genre)=%{y}<extra></extra>",
         "legendgroup": "War",
         "marker": {
          "color": "#FF97FF",
          "pattern": {
           "shape": ""
          }
         },
         "name": "War",
         "orientation": "h",
         "showlegend": true,
         "textposition": "auto",
         "type": "bar",
         "x": {
          "bdata": "AQEB",
          "dtype": "i1"
         },
         "xaxis": "x",
         "y": [
          "beautiful scenery (War)",
          "epic (War)",
          "historical (War)"
         ],
         "yaxis": "y"
        },
        {
         "hovertemplate": "genre=Horror<br>Nombre d'occurrences=%{x}<br>Tag (Genre)=%{y}<extra></extra>",
         "legendgroup": "Horror",
         "marker": {
          "color": "#FECB52",
          "pattern": {
           "shape": ""
          }
         },
         "name": "Horror",
         "orientation": "h",
         "showlegend": true,
         "textposition": "auto",
         "type": "bar",
         "x": {
          "bdata": "AgIE",
          "dtype": "i1"
         },
         "xaxis": "x",
         "y": [
          "suspense (Horror)",
          "aliens (Horror)",
          "Stephen King (Horror)"
         ],
         "yaxis": "y"
        },
        {
         "hovertemplate": "genre=Thriller<br>Nombre d'occurrences=%{x}<br>Tag (Genre)=%{y}<extra></extra>",
         "legendgroup": "Thriller",
         "marker": {
          "color": "#636efa",
          "pattern": {
           "shape": ""
          }
         },
         "name": "Thriller",
         "orientation": "h",
         "showlegend": true,
         "textposition": "auto",
         "type": "bar",
         "x": {
          "bdata": "AgME",
          "dtype": "i1"
         },
         "xaxis": "x",
         "y": [
          "demons (Thriller)",
          "twist ending (Thriller)",
          "Stephen King (Thriller)"
         ],
         "yaxis": "y"
        },
        {
         "hovertemplate": "genre=Romance<br>Nombre d'occurrences=%{x}<br>Tag (Genre)=%{y}<extra></extra>",
         "legendgroup": "Romance",
         "marker": {
          "color": "#EF553B",
          "pattern": {
           "shape": ""
          }
         },
         "name": "Romance",
         "orientation": "h",
         "showlegend": true,
         "textposition": "auto",
         "type": "bar",
         "x": {
          "bdata": "AgIE",
          "dtype": "i1"
         },
         "xaxis": "x",
         "y": [
          "In Netflix queue (Romance)",
          "personals ads (Romance)",
          "high school (Romance)"
         ],
         "yaxis": "y"
        },
        {
         "hovertemplate": "genre=Crime<br>Nombre d'occurrences=%{x}<br>Tag (Genre)=%{y}<extra></extra>",
         "legendgroup": "Crime",
         "marker": {
          "color": "#00cc96",
          "pattern": {
           "shape": ""
          }
         },
         "name": "Crime",
         "orientation": "h",
         "showlegend": true,
         "textposition": "auto",
         "type": "bar",
         "x": {
          "bdata": "AgIC",
          "dtype": "i1"
         },
         "xaxis": "x",
         "y": [
          "twist ending (Crime)",
          "dark comedy (Crime)",
          "psychology (Crime)"
         ],
         "yaxis": "y"
        },
        {
         "hovertemplate": "genre=Adventure<br>Nombre d'occurrences=%{x}<br>Tag (Genre)=%{y}<extra></extra>",
         "legendgroup": "Adventure",
         "marker": {
          "color": "#ab63fa",
          "pattern": {
           "shape": ""
          }
         },
         "name": "Adventure",
         "orientation": "h",
         "showlegend": true,
         "textposition": "auto",
         "type": "bar",
         "x": {
          "bdata": "AgID",
          "dtype": "i1"
         },
         "xaxis": "x",
         "y": [
          "classic (Adventure)",
          "action (Adventure)",
          "sci-fi (Adventure)"
         ],
         "yaxis": "y"
        },
        {
         "hovertemplate": "genre=Mystery<br>Nombre d'occurrences=%{x}<br>Tag (Genre)=%{y}<extra></extra>",
         "legendgroup": "Mystery",
         "marker": {
          "color": "#FFA15A",
          "pattern": {
           "shape": ""
          }
         },
         "name": "Mystery",
         "orientation": "h",
         "showlegend": true,
         "textposition": "auto",
         "type": "bar",
         "x": {
          "bdata": "AgID",
          "dtype": "i1"
         },
         "xaxis": "x",
         "y": [
          "slasher (Mystery)",
          "religion (Mystery)",
          "twist ending (Mystery)"
         ],
         "yaxis": "y"
        },
        {
         "hovertemplate": "genre=Sci-Fi<br>Nombre d'occurrences=%{x}<br>Tag (Genre)=%{y}<extra></extra>",
         "legendgroup": "Sci-Fi",
         "marker": {
          "color": "#19d3f3",
          "pattern": {
           "shape": ""
          }
         },
         "name": "Sci-Fi",
         "orientation": "h",
         "showlegend": true,
         "textposition": "auto",
         "type": "bar",
         "x": {
          "bdata": "AwQF",
          "dtype": "i1"
         },
         "xaxis": "x",
         "y": [
          "superhero (Sci-Fi)",
          "aliens (Sci-Fi)",
          "sci-fi (Sci-Fi)"
         ],
         "yaxis": "y"
        },
        {
         "hovertemplate": "genre=Drama<br>Nombre d'occurrences=%{x}<br>Tag (Genre)=%{y}<extra></extra>",
         "legendgroup": "Drama",
         "marker": {
          "color": "#FF6692",
          "pattern": {
           "shape": ""
          }
         },
         "name": "Drama",
         "orientation": "h",
         "showlegend": true,
         "textposition": "auto",
         "type": "bar",
         "x": {
          "bdata": "AwQM",
          "dtype": "i1"
         },
         "xaxis": "x",
         "y": [
          "religion (Drama)",
          "twist ending (Drama)",
          "In Netflix queue (Drama)"
         ],
         "yaxis": "y"
        },
        {
         "hovertemplate": "genre=Action<br>Nombre d'occurrences=%{x}<br>Tag (Genre)=%{y}<extra></extra>",
         "legendgroup": "Action",
         "marker": {
          "color": "#B6E880",
          "pattern": {
           "shape": ""
          }
         },
         "name": "Action",
         "orientation": "h",
         "showlegend": true,
         "textposition": "auto",
         "type": "bar",
         "x": {
          "bdata": "AwQE",
          "dtype": "i1"
         },
         "xaxis": "x",
         "y": [
          "aliens (Action)",
          "superhero (Action)",
          "sci-fi (Action)"
         ],
         "yaxis": "y"
        },
        {
         "hovertemplate": "genre=Comedy<br>Nombre d'occurrences=%{x}<br>Tag (Genre)=%{y}<extra></extra>",
         "legendgroup": "Comedy",
         "marker": {
          "color": "#FF97FF",
          "pattern": {
           "shape": ""
          }
         },
         "name": "Comedy",
         "orientation": "h",
         "showlegend": true,
         "textposition": "auto",
         "type": "bar",
         "x": {
          "bdata": "BAQF",
          "dtype": "i1"
         },
         "xaxis": "x",
         "y": [
          "dark comedy (Comedy)",
          "high school (Comedy)",
          "In Netflix queue (Comedy)"
         ],
         "yaxis": "y"
        }
       ],
       "layout": {
        "barmode": "relative",
        "height": 800,
        "legend": {
         "title": {
          "text": "genre"
         },
         "tracegroupgap": 0
        },
        "template": {
         "data": {
          "bar": [
           {
            "error_x": {
             "color": "#2a3f5f"
            },
            "error_y": {
             "color": "#2a3f5f"
            },
            "marker": {
             "line": {
              "color": "#E5ECF6",
              "width": 0.5
             },
             "pattern": {
              "fillmode": "overlay",
              "size": 10,
              "solidity": 0.2
             }
            },
            "type": "bar"
           }
          ],
          "barpolar": [
           {
            "marker": {
             "line": {
              "color": "#E5ECF6",
              "width": 0.5
             },
             "pattern": {
              "fillmode": "overlay",
              "size": 10,
              "solidity": 0.2
             }
            },
            "type": "barpolar"
           }
          ],
          "carpet": [
           {
            "aaxis": {
             "endlinecolor": "#2a3f5f",
             "gridcolor": "white",
             "linecolor": "white",
             "minorgridcolor": "white",
             "startlinecolor": "#2a3f5f"
            },
            "baxis": {
             "endlinecolor": "#2a3f5f",
             "gridcolor": "white",
             "linecolor": "white",
             "minorgridcolor": "white",
             "startlinecolor": "#2a3f5f"
            },
            "type": "carpet"
           }
          ],
          "choropleth": [
           {
            "colorbar": {
             "outlinewidth": 0,
             "ticks": ""
            },
            "type": "choropleth"
           }
          ],
          "contour": [
           {
            "colorbar": {
             "outlinewidth": 0,
             "ticks": ""
            },
            "colorscale": [
             [
              0,
              "#0d0887"
             ],
             [
              0.1111111111111111,
              "#46039f"
             ],
             [
              0.2222222222222222,
              "#7201a8"
             ],
             [
              0.3333333333333333,
              "#9c179e"
             ],
             [
              0.4444444444444444,
              "#bd3786"
             ],
             [
              0.5555555555555556,
              "#d8576b"
             ],
             [
              0.6666666666666666,
              "#ed7953"
             ],
             [
              0.7777777777777778,
              "#fb9f3a"
             ],
             [
              0.8888888888888888,
              "#fdca26"
             ],
             [
              1,
              "#f0f921"
             ]
            ],
            "type": "contour"
           }
          ],
          "contourcarpet": [
           {
            "colorbar": {
             "outlinewidth": 0,
             "ticks": ""
            },
            "type": "contourcarpet"
           }
          ],
          "heatmap": [
           {
            "colorbar": {
             "outlinewidth": 0,
             "ticks": ""
            },
            "colorscale": [
             [
              0,
              "#0d0887"
             ],
             [
              0.1111111111111111,
              "#46039f"
             ],
             [
              0.2222222222222222,
              "#7201a8"
             ],
             [
              0.3333333333333333,
              "#9c179e"
             ],
             [
              0.4444444444444444,
              "#bd3786"
             ],
             [
              0.5555555555555556,
              "#d8576b"
             ],
             [
              0.6666666666666666,
              "#ed7953"
             ],
             [
              0.7777777777777778,
              "#fb9f3a"
             ],
             [
              0.8888888888888888,
              "#fdca26"
             ],
             [
              1,
              "#f0f921"
             ]
            ],
            "type": "heatmap"
           }
          ],
          "histogram": [
           {
            "marker": {
             "pattern": {
              "fillmode": "overlay",
              "size": 10,
              "solidity": 0.2
             }
            },
            "type": "histogram"
           }
          ],
          "histogram2d": [
           {
            "colorbar": {
             "outlinewidth": 0,
             "ticks": ""
            },
            "colorscale": [
             [
              0,
              "#0d0887"
             ],
             [
              0.1111111111111111,
              "#46039f"
             ],
             [
              0.2222222222222222,
              "#7201a8"
             ],
             [
              0.3333333333333333,
              "#9c179e"
             ],
             [
              0.4444444444444444,
              "#bd3786"
             ],
             [
              0.5555555555555556,
              "#d8576b"
             ],
             [
              0.6666666666666666,
              "#ed7953"
             ],
             [
              0.7777777777777778,
              "#fb9f3a"
             ],
             [
              0.8888888888888888,
              "#fdca26"
             ],
             [
              1,
              "#f0f921"
             ]
            ],
            "type": "histogram2d"
           }
          ],
          "histogram2dcontour": [
           {
            "colorbar": {
             "outlinewidth": 0,
             "ticks": ""
            },
            "colorscale": [
             [
              0,
              "#0d0887"
             ],
             [
              0.1111111111111111,
              "#46039f"
             ],
             [
              0.2222222222222222,
              "#7201a8"
             ],
             [
              0.3333333333333333,
              "#9c179e"
             ],
             [
              0.4444444444444444,
              "#bd3786"
             ],
             [
              0.5555555555555556,
              "#d8576b"
             ],
             [
              0.6666666666666666,
              "#ed7953"
             ],
             [
              0.7777777777777778,
              "#fb9f3a"
             ],
             [
              0.8888888888888888,
              "#fdca26"
             ],
             [
              1,
              "#f0f921"
             ]
            ],
            "type": "histogram2dcontour"
           }
          ],
          "mesh3d": [
           {
            "colorbar": {
             "outlinewidth": 0,
             "ticks": ""
            },
            "type": "mesh3d"
           }
          ],
          "parcoords": [
           {
            "line": {
             "colorbar": {
              "outlinewidth": 0,
              "ticks": ""
             }
            },
            "type": "parcoords"
           }
          ],
          "pie": [
           {
            "automargin": true,
            "type": "pie"
           }
          ],
          "scatter": [
           {
            "fillpattern": {
             "fillmode": "overlay",
             "size": 10,
             "solidity": 0.2
            },
            "type": "scatter"
           }
          ],
          "scatter3d": [
           {
            "line": {
             "colorbar": {
              "outlinewidth": 0,
              "ticks": ""
             }
            },
            "marker": {
             "colorbar": {
              "outlinewidth": 0,
              "ticks": ""
             }
            },
            "type": "scatter3d"
           }
          ],
          "scattercarpet": [
           {
            "marker": {
             "colorbar": {
              "outlinewidth": 0,
              "ticks": ""
             }
            },
            "type": "scattercarpet"
           }
          ],
          "scattergeo": [
           {
            "marker": {
             "colorbar": {
              "outlinewidth": 0,
              "ticks": ""
             }
            },
            "type": "scattergeo"
           }
          ],
          "scattergl": [
           {
            "marker": {
             "colorbar": {
              "outlinewidth": 0,
              "ticks": ""
             }
            },
            "type": "scattergl"
           }
          ],
          "scattermap": [
           {
            "marker": {
             "colorbar": {
              "outlinewidth": 0,
              "ticks": ""
             }
            },
            "type": "scattermap"
           }
          ],
          "scattermapbox": [
           {
            "marker": {
             "colorbar": {
              "outlinewidth": 0,
              "ticks": ""
             }
            },
            "type": "scattermapbox"
           }
          ],
          "scatterpolar": [
           {
            "marker": {
             "colorbar": {
              "outlinewidth": 0,
              "ticks": ""
             }
            },
            "type": "scatterpolar"
           }
          ],
          "scatterpolargl": [
           {
            "marker": {
             "colorbar": {
              "outlinewidth": 0,
              "ticks": ""
             }
            },
            "type": "scatterpolargl"
           }
          ],
          "scatterternary": [
           {
            "marker": {
             "colorbar": {
              "outlinewidth": 0,
              "ticks": ""
             }
            },
            "type": "scatterternary"
           }
          ],
          "surface": [
           {
            "colorbar": {
             "outlinewidth": 0,
             "ticks": ""
            },
            "colorscale": [
             [
              0,
              "#0d0887"
             ],
             [
              0.1111111111111111,
              "#46039f"
             ],
             [
              0.2222222222222222,
              "#7201a8"
             ],
             [
              0.3333333333333333,
              "#9c179e"
             ],
             [
              0.4444444444444444,
              "#bd3786"
             ],
             [
              0.5555555555555556,
              "#d8576b"
             ],
             [
              0.6666666666666666,
              "#ed7953"
             ],
             [
              0.7777777777777778,
              "#fb9f3a"
             ],
             [
              0.8888888888888888,
              "#fdca26"
             ],
             [
              1,
              "#f0f921"
             ]
            ],
            "type": "surface"
           }
          ],
          "table": [
           {
            "cells": {
             "fill": {
              "color": "#EBF0F8"
             },
             "line": {
              "color": "white"
             }
            },
            "header": {
             "fill": {
              "color": "#C8D4E3"
             },
             "line": {
              "color": "white"
             }
            },
            "type": "table"
           }
          ]
         },
         "layout": {
          "annotationdefaults": {
           "arrowcolor": "#2a3f5f",
           "arrowhead": 0,
           "arrowwidth": 1
          },
          "autotypenumbers": "strict",
          "coloraxis": {
           "colorbar": {
            "outlinewidth": 0,
            "ticks": ""
           }
          },
          "colorscale": {
           "diverging": [
            [
             0,
             "#8e0152"
            ],
            [
             0.1,
             "#c51b7d"
            ],
            [
             0.2,
             "#de77ae"
            ],
            [
             0.3,
             "#f1b6da"
            ],
            [
             0.4,
             "#fde0ef"
            ],
            [
             0.5,
             "#f7f7f7"
            ],
            [
             0.6,
             "#e6f5d0"
            ],
            [
             0.7,
             "#b8e186"
            ],
            [
             0.8,
             "#7fbc41"
            ],
            [
             0.9,
             "#4d9221"
            ],
            [
             1,
             "#276419"
            ]
           ],
           "sequential": [
            [
             0,
             "#0d0887"
            ],
            [
             0.1111111111111111,
             "#46039f"
            ],
            [
             0.2222222222222222,
             "#7201a8"
            ],
            [
             0.3333333333333333,
             "#9c179e"
            ],
            [
             0.4444444444444444,
             "#bd3786"
            ],
            [
             0.5555555555555556,
             "#d8576b"
            ],
            [
             0.6666666666666666,
             "#ed7953"
            ],
            [
             0.7777777777777778,
             "#fb9f3a"
            ],
            [
             0.8888888888888888,
             "#fdca26"
            ],
            [
             1,
             "#f0f921"
            ]
           ],
           "sequentialminus": [
            [
             0,
             "#0d0887"
            ],
            [
             0.1111111111111111,
             "#46039f"
            ],
            [
             0.2222222222222222,
             "#7201a8"
            ],
            [
             0.3333333333333333,
             "#9c179e"
            ],
            [
             0.4444444444444444,
             "#bd3786"
            ],
            [
             0.5555555555555556,
             "#d8576b"
            ],
            [
             0.6666666666666666,
             "#ed7953"
            ],
            [
             0.7777777777777778,
             "#fb9f3a"
            ],
            [
             0.8888888888888888,
             "#fdca26"
            ],
            [
             1,
             "#f0f921"
            ]
           ]
          },
          "colorway": [
           "#636efa",
           "#EF553B",
           "#00cc96",
           "#ab63fa",
           "#FFA15A",
           "#19d3f3",
           "#FF6692",
           "#B6E880",
           "#FF97FF",
           "#FECB52"
          ],
          "font": {
           "color": "#2a3f5f"
          },
          "geo": {
           "bgcolor": "white",
           "lakecolor": "white",
           "landcolor": "#E5ECF6",
           "showlakes": true,
           "showland": true,
           "subunitcolor": "white"
          },
          "hoverlabel": {
           "align": "left"
          },
          "hovermode": "closest",
          "mapbox": {
           "style": "light"
          },
          "paper_bgcolor": "white",
          "plot_bgcolor": "#E5ECF6",
          "polar": {
           "angularaxis": {
            "gridcolor": "white",
            "linecolor": "white",
            "ticks": ""
           },
           "bgcolor": "#E5ECF6",
           "radialaxis": {
            "gridcolor": "white",
            "linecolor": "white",
            "ticks": ""
           }
          },
          "scene": {
           "xaxis": {
            "backgroundcolor": "#E5ECF6",
            "gridcolor": "white",
            "gridwidth": 2,
            "linecolor": "white",
            "showbackground": true,
            "ticks": "",
            "zerolinecolor": "white"
           },
           "yaxis": {
            "backgroundcolor": "#E5ECF6",
            "gridcolor": "white",
            "gridwidth": 2,
            "linecolor": "white",
            "showbackground": true,
            "ticks": "",
            "zerolinecolor": "white"
           },
           "zaxis": {
            "backgroundcolor": "#E5ECF6",
            "gridcolor": "white",
            "gridwidth": 2,
            "linecolor": "white",
            "showbackground": true,
            "ticks": "",
            "zerolinecolor": "white"
           }
          },
          "shapedefaults": {
           "line": {
            "color": "#2a3f5f"
           }
          },
          "ternary": {
           "aaxis": {
            "gridcolor": "white",
            "linecolor": "white",
            "ticks": ""
           },
           "baxis": {
            "gridcolor": "white",
            "linecolor": "white",
            "ticks": ""
           },
           "bgcolor": "#E5ECF6",
           "caxis": {
            "gridcolor": "white",
            "linecolor": "white",
            "ticks": ""
           }
          },
          "title": {
           "x": 0.05
          },
          "xaxis": {
           "automargin": true,
           "gridcolor": "white",
           "linecolor": "white",
           "ticks": "",
           "title": {
            "standoff": 15
           },
           "zerolinecolor": "white",
           "zerolinewidth": 2
          },
          "yaxis": {
           "automargin": true,
           "gridcolor": "white",
           "linecolor": "white",
           "ticks": "",
           "title": {
            "standoff": 15
           },
           "zerolinecolor": "white",
           "zerolinewidth": 2
          }
         }
        },
        "title": {
         "text": "Top 3 Tags les plus utilisés par Genre"
        },
        "xaxis": {
         "anchor": "y",
         "domain": [
          0,
          1
         ],
         "title": {
          "text": "Nombre d'occurrences"
         }
        },
        "yaxis": {
         "anchor": "x",
         "categoryorder": "total ascending",
         "domain": [
          0,
          1
         ],
         "title": {
          "text": "Tag (Genre)"
         }
        }
       }
      }
     },
     "metadata": {},
     "output_type": "display_data"
    }
   ],
   "source": [
    "fig = px.bar(\n",
    "    top_tags_by_genre.sort_values(\"count\"),\n",
    "    x=\"count\",\n",
    "    y=\"tag_label\",\n",
    "    color=\"genre\",\n",
    "    orientation=\"h\",\n",
    "    title=\"Top 3 Tags les plus utilisés par Genre\",\n",
    "    labels={\"count\": \"Nombre d'occurrences\", \"tag_label\": \"Tag (Genre)\"},\n",
    "    height=800\n",
    ")\n",
    "fig.update_layout(yaxis=dict(categoryorder='total ascending'))\n",
    "fig.show()"
   ]
  },
  {
   "cell_type": "code",
   "execution_count": 19,
   "id": "1b802a4b",
   "metadata": {},
   "outputs": [
    {
     "data": {
      "text/html": [
       "<div>\n",
       "<style scoped>\n",
       "    .dataframe tbody tr th:only-of-type {\n",
       "        vertical-align: middle;\n",
       "    }\n",
       "\n",
       "    .dataframe tbody tr th {\n",
       "        vertical-align: top;\n",
       "    }\n",
       "\n",
       "    .dataframe thead th {\n",
       "        text-align: right;\n",
       "    }\n",
       "</style>\n",
       "<table border=\"1\" class=\"dataframe\">\n",
       "  <thead>\n",
       "    <tr style=\"text-align: right;\">\n",
       "      <th></th>\n",
       "      <th>tag</th>\n",
       "      <th>count</th>\n",
       "    </tr>\n",
       "  </thead>\n",
       "  <tbody>\n",
       "    <tr>\n",
       "      <th>570</th>\n",
       "      <td>In Netflix queue</td>\n",
       "      <td>102</td>\n",
       "    </tr>\n",
       "    <tr>\n",
       "      <th>69</th>\n",
       "      <td>atmospheric</td>\n",
       "      <td>33</td>\n",
       "    </tr>\n",
       "    <tr>\n",
       "      <th>354</th>\n",
       "      <td>thought-provoking</td>\n",
       "      <td>23</td>\n",
       "    </tr>\n",
       "    <tr>\n",
       "      <th>0</th>\n",
       "      <td>funny</td>\n",
       "      <td>23</td>\n",
       "    </tr>\n",
       "    <tr>\n",
       "      <th>54</th>\n",
       "      <td>Disney</td>\n",
       "      <td>23</td>\n",
       "    </tr>\n",
       "    <tr>\n",
       "      <th>141</th>\n",
       "      <td>surreal</td>\n",
       "      <td>22</td>\n",
       "    </tr>\n",
       "    <tr>\n",
       "      <th>80</th>\n",
       "      <td>superhero</td>\n",
       "      <td>22</td>\n",
       "    </tr>\n",
       "    <tr>\n",
       "      <th>50</th>\n",
       "      <td>quirky</td>\n",
       "      <td>21</td>\n",
       "    </tr>\n",
       "    <tr>\n",
       "      <th>26</th>\n",
       "      <td>sci-fi</td>\n",
       "      <td>21</td>\n",
       "    </tr>\n",
       "    <tr>\n",
       "      <th>348</th>\n",
       "      <td>psychology</td>\n",
       "      <td>21</td>\n",
       "    </tr>\n",
       "    <tr>\n",
       "      <th>43</th>\n",
       "      <td>dark comedy</td>\n",
       "      <td>21</td>\n",
       "    </tr>\n",
       "    <tr>\n",
       "      <th>121</th>\n",
       "      <td>visually appealing</td>\n",
       "      <td>19</td>\n",
       "    </tr>\n",
       "    <tr>\n",
       "      <th>313</th>\n",
       "      <td>suspense</td>\n",
       "      <td>19</td>\n",
       "    </tr>\n",
       "    <tr>\n",
       "      <th>719</th>\n",
       "      <td>religion</td>\n",
       "      <td>19</td>\n",
       "    </tr>\n",
       "    <tr>\n",
       "      <th>16</th>\n",
       "      <td>twist ending</td>\n",
       "      <td>19</td>\n",
       "    </tr>\n",
       "    <tr>\n",
       "      <th>235</th>\n",
       "      <td>politics</td>\n",
       "      <td>17</td>\n",
       "    </tr>\n",
       "    <tr>\n",
       "      <th>559</th>\n",
       "      <td>crime</td>\n",
       "      <td>17</td>\n",
       "    </tr>\n",
       "    <tr>\n",
       "      <th>308</th>\n",
       "      <td>time travel</td>\n",
       "      <td>16</td>\n",
       "    </tr>\n",
       "    <tr>\n",
       "      <th>406</th>\n",
       "      <td>music</td>\n",
       "      <td>15</td>\n",
       "    </tr>\n",
       "    <tr>\n",
       "      <th>97</th>\n",
       "      <td>dark</td>\n",
       "      <td>15</td>\n",
       "    </tr>\n",
       "  </tbody>\n",
       "</table>\n",
       "</div>"
      ],
      "text/plain": [
       "                    tag  count\n",
       "570    In Netflix queue    102\n",
       "69          atmospheric     33\n",
       "354   thought-provoking     23\n",
       "0                 funny     23\n",
       "54               Disney     23\n",
       "141             surreal     22\n",
       "80            superhero     22\n",
       "50               quirky     21\n",
       "26               sci-fi     21\n",
       "348          psychology     21\n",
       "43          dark comedy     21\n",
       "121  visually appealing     19\n",
       "313            suspense     19\n",
       "719            religion     19\n",
       "16         twist ending     19\n",
       "235            politics     17\n",
       "559               crime     17\n",
       "308         time travel     16\n",
       "406               music     15\n",
       "97                 dark     15"
      ]
     },
     "execution_count": 19,
     "metadata": {},
     "output_type": "execute_result"
    }
   ],
   "source": [
    "# -------------------------------\n",
    "# 2. Tags les plus fréquents dans les films bien notés (>= 4)\n",
    "# -------------------------------\n",
    "def compute_tags_for_good_ratings():\n",
    "    good_ratings = []\n",
    "    tags_by_movie = defaultdict(list)\n",
    "\n",
    "    # Charger les ratings >= 4\n",
    "    skip = 0\n",
    "    limit = 500\n",
    "    while True:\n",
    "        ratings = client.list_ratings(skip=skip, limit=limit, output_format=\"dict\")\n",
    "        if not ratings:\n",
    "            break\n",
    "        good_ratings += [r for r in ratings if r[\"rating\"] >= 4]\n",
    "        skip += limit\n",
    "        time.sleep(0.5)\n",
    "\n",
    "    # Associer les tags aux movieId bien notés\n",
    "    movie_ids = set([r[\"movieId\"] for r in good_ratings])\n",
    "    skip = 0\n",
    "    limit = 500\n",
    "    while True:\n",
    "        tags = client.list_tags(skip=skip, limit=limit, output_format=\"dict\")\n",
    "        if not tags:\n",
    "            break\n",
    "        for tag in tags:\n",
    "            if tag[\"movieId\"] in movie_ids:\n",
    "                tags_by_movie[tag[\"tag\"]].append(tag[\"movieId\"])\n",
    "        skip += limit\n",
    "        time.sleep(0.5)\n",
    "\n",
    "    df = pd.DataFrame([(tag, len(movies)) for tag, movies in tags_by_movie.items()],\n",
    "                      columns=[\"tag\", \"count\"])\n",
    "    df = df.sort_values(\"count\", ascending=False).head(20)\n",
    "    return df\n",
    "\n",
    "tags_good_rating_df = use_or_generate(tags_good_rating_path, current_stats, compute_tags_for_good_ratings)\n",
    "tags_good_rating_df"
   ]
  },
  {
   "cell_type": "code",
   "execution_count": 20,
   "id": "94b6aae9",
   "metadata": {},
   "outputs": [
    {
     "data": {
      "application/vnd.plotly.v1+json": {
       "config": {
        "plotlyServerURL": "https://plot.ly"
       },
       "data": [
        {
         "hovertemplate": "Nombre d’occurrences=%{marker.color}<br>Tag=%{y}<extra></extra>",
         "legendgroup": "",
         "marker": {
          "color": {
           "bdata": "ZiEXFxcWFhUVFRUTExMTEREQDw8=",
           "dtype": "i1"
          },
          "coloraxis": "coloraxis",
          "pattern": {
           "shape": ""
          }
         },
         "name": "",
         "orientation": "h",
         "showlegend": false,
         "textposition": "auto",
         "type": "bar",
         "x": {
          "bdata": "ZiEXFxcWFhUVFRUTExMTEREQDw8=",
          "dtype": "i1"
         },
         "xaxis": "x",
         "y": [
          "In Netflix queue",
          "atmospheric",
          "thought-provoking",
          "funny",
          "Disney",
          "surreal",
          "superhero",
          "quirky",
          "sci-fi",
          "psychology",
          "dark comedy",
          "visually appealing",
          "suspense",
          "religion",
          "twist ending",
          "politics",
          "crime",
          "time travel",
          "music",
          "dark"
         ],
         "yaxis": "y"
        }
       ],
       "layout": {
        "barmode": "relative",
        "coloraxis": {
         "colorbar": {
          "title": {
           "text": "Nombre d’occurrences"
          }
         },
         "colorscale": [
          [
           0,
           "#440154"
          ],
          [
           0.1111111111111111,
           "#482878"
          ],
          [
           0.2222222222222222,
           "#3e4989"
          ],
          [
           0.3333333333333333,
           "#31688e"
          ],
          [
           0.4444444444444444,
           "#26828e"
          ],
          [
           0.5555555555555556,
           "#1f9e89"
          ],
          [
           0.6666666666666666,
           "#35b779"
          ],
          [
           0.7777777777777778,
           "#6ece58"
          ],
          [
           0.8888888888888888,
           "#b5de2b"
          ],
          [
           1,
           "#fde725"
          ]
         ]
        },
        "legend": {
         "tracegroupgap": 0
        },
        "template": {
         "data": {
          "bar": [
           {
            "error_x": {
             "color": "#2a3f5f"
            },
            "error_y": {
             "color": "#2a3f5f"
            },
            "marker": {
             "line": {
              "color": "#E5ECF6",
              "width": 0.5
             },
             "pattern": {
              "fillmode": "overlay",
              "size": 10,
              "solidity": 0.2
             }
            },
            "type": "bar"
           }
          ],
          "barpolar": [
           {
            "marker": {
             "line": {
              "color": "#E5ECF6",
              "width": 0.5
             },
             "pattern": {
              "fillmode": "overlay",
              "size": 10,
              "solidity": 0.2
             }
            },
            "type": "barpolar"
           }
          ],
          "carpet": [
           {
            "aaxis": {
             "endlinecolor": "#2a3f5f",
             "gridcolor": "white",
             "linecolor": "white",
             "minorgridcolor": "white",
             "startlinecolor": "#2a3f5f"
            },
            "baxis": {
             "endlinecolor": "#2a3f5f",
             "gridcolor": "white",
             "linecolor": "white",
             "minorgridcolor": "white",
             "startlinecolor": "#2a3f5f"
            },
            "type": "carpet"
           }
          ],
          "choropleth": [
           {
            "colorbar": {
             "outlinewidth": 0,
             "ticks": ""
            },
            "type": "choropleth"
           }
          ],
          "contour": [
           {
            "colorbar": {
             "outlinewidth": 0,
             "ticks": ""
            },
            "colorscale": [
             [
              0,
              "#0d0887"
             ],
             [
              0.1111111111111111,
              "#46039f"
             ],
             [
              0.2222222222222222,
              "#7201a8"
             ],
             [
              0.3333333333333333,
              "#9c179e"
             ],
             [
              0.4444444444444444,
              "#bd3786"
             ],
             [
              0.5555555555555556,
              "#d8576b"
             ],
             [
              0.6666666666666666,
              "#ed7953"
             ],
             [
              0.7777777777777778,
              "#fb9f3a"
             ],
             [
              0.8888888888888888,
              "#fdca26"
             ],
             [
              1,
              "#f0f921"
             ]
            ],
            "type": "contour"
           }
          ],
          "contourcarpet": [
           {
            "colorbar": {
             "outlinewidth": 0,
             "ticks": ""
            },
            "type": "contourcarpet"
           }
          ],
          "heatmap": [
           {
            "colorbar": {
             "outlinewidth": 0,
             "ticks": ""
            },
            "colorscale": [
             [
              0,
              "#0d0887"
             ],
             [
              0.1111111111111111,
              "#46039f"
             ],
             [
              0.2222222222222222,
              "#7201a8"
             ],
             [
              0.3333333333333333,
              "#9c179e"
             ],
             [
              0.4444444444444444,
              "#bd3786"
             ],
             [
              0.5555555555555556,
              "#d8576b"
             ],
             [
              0.6666666666666666,
              "#ed7953"
             ],
             [
              0.7777777777777778,
              "#fb9f3a"
             ],
             [
              0.8888888888888888,
              "#fdca26"
             ],
             [
              1,
              "#f0f921"
             ]
            ],
            "type": "heatmap"
           }
          ],
          "histogram": [
           {
            "marker": {
             "pattern": {
              "fillmode": "overlay",
              "size": 10,
              "solidity": 0.2
             }
            },
            "type": "histogram"
           }
          ],
          "histogram2d": [
           {
            "colorbar": {
             "outlinewidth": 0,
             "ticks": ""
            },
            "colorscale": [
             [
              0,
              "#0d0887"
             ],
             [
              0.1111111111111111,
              "#46039f"
             ],
             [
              0.2222222222222222,
              "#7201a8"
             ],
             [
              0.3333333333333333,
              "#9c179e"
             ],
             [
              0.4444444444444444,
              "#bd3786"
             ],
             [
              0.5555555555555556,
              "#d8576b"
             ],
             [
              0.6666666666666666,
              "#ed7953"
             ],
             [
              0.7777777777777778,
              "#fb9f3a"
             ],
             [
              0.8888888888888888,
              "#fdca26"
             ],
             [
              1,
              "#f0f921"
             ]
            ],
            "type": "histogram2d"
           }
          ],
          "histogram2dcontour": [
           {
            "colorbar": {
             "outlinewidth": 0,
             "ticks": ""
            },
            "colorscale": [
             [
              0,
              "#0d0887"
             ],
             [
              0.1111111111111111,
              "#46039f"
             ],
             [
              0.2222222222222222,
              "#7201a8"
             ],
             [
              0.3333333333333333,
              "#9c179e"
             ],
             [
              0.4444444444444444,
              "#bd3786"
             ],
             [
              0.5555555555555556,
              "#d8576b"
             ],
             [
              0.6666666666666666,
              "#ed7953"
             ],
             [
              0.7777777777777778,
              "#fb9f3a"
             ],
             [
              0.8888888888888888,
              "#fdca26"
             ],
             [
              1,
              "#f0f921"
             ]
            ],
            "type": "histogram2dcontour"
           }
          ],
          "mesh3d": [
           {
            "colorbar": {
             "outlinewidth": 0,
             "ticks": ""
            },
            "type": "mesh3d"
           }
          ],
          "parcoords": [
           {
            "line": {
             "colorbar": {
              "outlinewidth": 0,
              "ticks": ""
             }
            },
            "type": "parcoords"
           }
          ],
          "pie": [
           {
            "automargin": true,
            "type": "pie"
           }
          ],
          "scatter": [
           {
            "fillpattern": {
             "fillmode": "overlay",
             "size": 10,
             "solidity": 0.2
            },
            "type": "scatter"
           }
          ],
          "scatter3d": [
           {
            "line": {
             "colorbar": {
              "outlinewidth": 0,
              "ticks": ""
             }
            },
            "marker": {
             "colorbar": {
              "outlinewidth": 0,
              "ticks": ""
             }
            },
            "type": "scatter3d"
           }
          ],
          "scattercarpet": [
           {
            "marker": {
             "colorbar": {
              "outlinewidth": 0,
              "ticks": ""
             }
            },
            "type": "scattercarpet"
           }
          ],
          "scattergeo": [
           {
            "marker": {
             "colorbar": {
              "outlinewidth": 0,
              "ticks": ""
             }
            },
            "type": "scattergeo"
           }
          ],
          "scattergl": [
           {
            "marker": {
             "colorbar": {
              "outlinewidth": 0,
              "ticks": ""
             }
            },
            "type": "scattergl"
           }
          ],
          "scattermap": [
           {
            "marker": {
             "colorbar": {
              "outlinewidth": 0,
              "ticks": ""
             }
            },
            "type": "scattermap"
           }
          ],
          "scattermapbox": [
           {
            "marker": {
             "colorbar": {
              "outlinewidth": 0,
              "ticks": ""
             }
            },
            "type": "scattermapbox"
           }
          ],
          "scatterpolar": [
           {
            "marker": {
             "colorbar": {
              "outlinewidth": 0,
              "ticks": ""
             }
            },
            "type": "scatterpolar"
           }
          ],
          "scatterpolargl": [
           {
            "marker": {
             "colorbar": {
              "outlinewidth": 0,
              "ticks": ""
             }
            },
            "type": "scatterpolargl"
           }
          ],
          "scatterternary": [
           {
            "marker": {
             "colorbar": {
              "outlinewidth": 0,
              "ticks": ""
             }
            },
            "type": "scatterternary"
           }
          ],
          "surface": [
           {
            "colorbar": {
             "outlinewidth": 0,
             "ticks": ""
            },
            "colorscale": [
             [
              0,
              "#0d0887"
             ],
             [
              0.1111111111111111,
              "#46039f"
             ],
             [
              0.2222222222222222,
              "#7201a8"
             ],
             [
              0.3333333333333333,
              "#9c179e"
             ],
             [
              0.4444444444444444,
              "#bd3786"
             ],
             [
              0.5555555555555556,
              "#d8576b"
             ],
             [
              0.6666666666666666,
              "#ed7953"
             ],
             [
              0.7777777777777778,
              "#fb9f3a"
             ],
             [
              0.8888888888888888,
              "#fdca26"
             ],
             [
              1,
              "#f0f921"
             ]
            ],
            "type": "surface"
           }
          ],
          "table": [
           {
            "cells": {
             "fill": {
              "color": "#EBF0F8"
             },
             "line": {
              "color": "white"
             }
            },
            "header": {
             "fill": {
              "color": "#C8D4E3"
             },
             "line": {
              "color": "white"
             }
            },
            "type": "table"
           }
          ]
         },
         "layout": {
          "annotationdefaults": {
           "arrowcolor": "#2a3f5f",
           "arrowhead": 0,
           "arrowwidth": 1
          },
          "autotypenumbers": "strict",
          "coloraxis": {
           "colorbar": {
            "outlinewidth": 0,
            "ticks": ""
           }
          },
          "colorscale": {
           "diverging": [
            [
             0,
             "#8e0152"
            ],
            [
             0.1,
             "#c51b7d"
            ],
            [
             0.2,
             "#de77ae"
            ],
            [
             0.3,
             "#f1b6da"
            ],
            [
             0.4,
             "#fde0ef"
            ],
            [
             0.5,
             "#f7f7f7"
            ],
            [
             0.6,
             "#e6f5d0"
            ],
            [
             0.7,
             "#b8e186"
            ],
            [
             0.8,
             "#7fbc41"
            ],
            [
             0.9,
             "#4d9221"
            ],
            [
             1,
             "#276419"
            ]
           ],
           "sequential": [
            [
             0,
             "#0d0887"
            ],
            [
             0.1111111111111111,
             "#46039f"
            ],
            [
             0.2222222222222222,
             "#7201a8"
            ],
            [
             0.3333333333333333,
             "#9c179e"
            ],
            [
             0.4444444444444444,
             "#bd3786"
            ],
            [
             0.5555555555555556,
             "#d8576b"
            ],
            [
             0.6666666666666666,
             "#ed7953"
            ],
            [
             0.7777777777777778,
             "#fb9f3a"
            ],
            [
             0.8888888888888888,
             "#fdca26"
            ],
            [
             1,
             "#f0f921"
            ]
           ],
           "sequentialminus": [
            [
             0,
             "#0d0887"
            ],
            [
             0.1111111111111111,
             "#46039f"
            ],
            [
             0.2222222222222222,
             "#7201a8"
            ],
            [
             0.3333333333333333,
             "#9c179e"
            ],
            [
             0.4444444444444444,
             "#bd3786"
            ],
            [
             0.5555555555555556,
             "#d8576b"
            ],
            [
             0.6666666666666666,
             "#ed7953"
            ],
            [
             0.7777777777777778,
             "#fb9f3a"
            ],
            [
             0.8888888888888888,
             "#fdca26"
            ],
            [
             1,
             "#f0f921"
            ]
           ]
          },
          "colorway": [
           "#636efa",
           "#EF553B",
           "#00cc96",
           "#ab63fa",
           "#FFA15A",
           "#19d3f3",
           "#FF6692",
           "#B6E880",
           "#FF97FF",
           "#FECB52"
          ],
          "font": {
           "color": "#2a3f5f"
          },
          "geo": {
           "bgcolor": "white",
           "lakecolor": "white",
           "landcolor": "#E5ECF6",
           "showlakes": true,
           "showland": true,
           "subunitcolor": "white"
          },
          "hoverlabel": {
           "align": "left"
          },
          "hovermode": "closest",
          "mapbox": {
           "style": "light"
          },
          "paper_bgcolor": "white",
          "plot_bgcolor": "#E5ECF6",
          "polar": {
           "angularaxis": {
            "gridcolor": "white",
            "linecolor": "white",
            "ticks": ""
           },
           "bgcolor": "#E5ECF6",
           "radialaxis": {
            "gridcolor": "white",
            "linecolor": "white",
            "ticks": ""
           }
          },
          "scene": {
           "xaxis": {
            "backgroundcolor": "#E5ECF6",
            "gridcolor": "white",
            "gridwidth": 2,
            "linecolor": "white",
            "showbackground": true,
            "ticks": "",
            "zerolinecolor": "white"
           },
           "yaxis": {
            "backgroundcolor": "#E5ECF6",
            "gridcolor": "white",
            "gridwidth": 2,
            "linecolor": "white",
            "showbackground": true,
            "ticks": "",
            "zerolinecolor": "white"
           },
           "zaxis": {
            "backgroundcolor": "#E5ECF6",
            "gridcolor": "white",
            "gridwidth": 2,
            "linecolor": "white",
            "showbackground": true,
            "ticks": "",
            "zerolinecolor": "white"
           }
          },
          "shapedefaults": {
           "line": {
            "color": "#2a3f5f"
           }
          },
          "ternary": {
           "aaxis": {
            "gridcolor": "white",
            "linecolor": "white",
            "ticks": ""
           },
           "baxis": {
            "gridcolor": "white",
            "linecolor": "white",
            "ticks": ""
           },
           "bgcolor": "#E5ECF6",
           "caxis": {
            "gridcolor": "white",
            "linecolor": "white",
            "ticks": ""
           }
          },
          "title": {
           "x": 0.05
          },
          "xaxis": {
           "automargin": true,
           "gridcolor": "white",
           "linecolor": "white",
           "ticks": "",
           "title": {
            "standoff": 15
           },
           "zerolinecolor": "white",
           "zerolinewidth": 2
          },
          "yaxis": {
           "automargin": true,
           "gridcolor": "white",
           "linecolor": "white",
           "ticks": "",
           "title": {
            "standoff": 15
           },
           "zerolinecolor": "white",
           "zerolinewidth": 2
          }
         }
        },
        "title": {
         "text": "Tags les plus fréquents dans les films bien notés (note ≥ 4)"
        },
        "xaxis": {
         "anchor": "y",
         "domain": [
          0,
          1
         ],
         "title": {
          "text": "Nombre d’occurrences"
         }
        },
        "yaxis": {
         "anchor": "x",
         "categoryorder": "total ascending",
         "domain": [
          0,
          1
         ],
         "title": {
          "text": "Tag"
         }
        }
       }
      }
     },
     "metadata": {},
     "output_type": "display_data"
    }
   ],
   "source": [
    "# Visualisation : Tags les plus fréquents dans films bien notés\n",
    "fig2 = px.bar(\n",
    "    tags_good_rating_df,\n",
    "    x=\"count\",\n",
    "    y=\"tag\",\n",
    "    orientation=\"h\",\n",
    "    title=\"Tags les plus fréquents dans les films bien notés (note ≥ 4)\",\n",
    "    labels={\"count\": \"Nombre d’occurrences\", \"tag\": \"Tag\"},\n",
    "    color=\"count\",\n",
    "    color_continuous_scale=\"viridis\"\n",
    ")\n",
    "fig2.update_layout(yaxis={'categoryorder':'total ascending'})\n",
    "fig2.show()"
   ]
  },
  {
   "cell_type": "code",
   "execution_count": 21,
   "id": "538198f7",
   "metadata": {},
   "outputs": [
    {
     "data": {
      "text/html": [
       "<div>\n",
       "<style scoped>\n",
       "    .dataframe tbody tr th:only-of-type {\n",
       "        vertical-align: middle;\n",
       "    }\n",
       "\n",
       "    .dataframe tbody tr th {\n",
       "        vertical-align: top;\n",
       "    }\n",
       "\n",
       "    .dataframe thead th {\n",
       "        text-align: right;\n",
       "    }\n",
       "</style>\n",
       "<table border=\"1\" class=\"dataframe\">\n",
       "  <thead>\n",
       "    <tr style=\"text-align: right;\">\n",
       "      <th></th>\n",
       "      <th>tag</th>\n",
       "      <th>count_good</th>\n",
       "      <th>count_bad</th>\n",
       "      <th>total</th>\n",
       "    </tr>\n",
       "  </thead>\n",
       "  <tbody>\n",
       "    <tr>\n",
       "      <th>54</th>\n",
       "      <td>In Netflix queue</td>\n",
       "      <td>54</td>\n",
       "      <td>0</td>\n",
       "      <td>54</td>\n",
       "    </tr>\n",
       "    <tr>\n",
       "      <th>444</th>\n",
       "      <td>atmospheric</td>\n",
       "      <td>16</td>\n",
       "      <td>0</td>\n",
       "      <td>16</td>\n",
       "    </tr>\n",
       "    <tr>\n",
       "      <th>239</th>\n",
       "      <td>thought-provoking</td>\n",
       "      <td>13</td>\n",
       "      <td>1</td>\n",
       "      <td>14</td>\n",
       "    </tr>\n",
       "    <tr>\n",
       "      <th>441</th>\n",
       "      <td>dark comedy</td>\n",
       "      <td>13</td>\n",
       "      <td>0</td>\n",
       "      <td>13</td>\n",
       "    </tr>\n",
       "    <tr>\n",
       "      <th>108</th>\n",
       "      <td>suspense</td>\n",
       "      <td>11</td>\n",
       "      <td>1</td>\n",
       "      <td>12</td>\n",
       "    </tr>\n",
       "    <tr>\n",
       "      <th>867</th>\n",
       "      <td>religion</td>\n",
       "      <td>7</td>\n",
       "      <td>4</td>\n",
       "      <td>11</td>\n",
       "    </tr>\n",
       "    <tr>\n",
       "      <th>637</th>\n",
       "      <td>dark</td>\n",
       "      <td>9</td>\n",
       "      <td>1</td>\n",
       "      <td>10</td>\n",
       "    </tr>\n",
       "    <tr>\n",
       "      <th>296</th>\n",
       "      <td>psychology</td>\n",
       "      <td>10</td>\n",
       "      <td>0</td>\n",
       "      <td>10</td>\n",
       "    </tr>\n",
       "    <tr>\n",
       "      <th>119</th>\n",
       "      <td>emotional</td>\n",
       "      <td>10</td>\n",
       "      <td>0</td>\n",
       "      <td>10</td>\n",
       "    </tr>\n",
       "    <tr>\n",
       "      <th>751</th>\n",
       "      <td>surreal</td>\n",
       "      <td>10</td>\n",
       "      <td>0</td>\n",
       "      <td>10</td>\n",
       "    </tr>\n",
       "    <tr>\n",
       "      <th>301</th>\n",
       "      <td>superhero</td>\n",
       "      <td>1</td>\n",
       "      <td>9</td>\n",
       "      <td>10</td>\n",
       "    </tr>\n",
       "    <tr>\n",
       "      <th>810</th>\n",
       "      <td>quirky</td>\n",
       "      <td>9</td>\n",
       "      <td>0</td>\n",
       "      <td>9</td>\n",
       "    </tr>\n",
       "    <tr>\n",
       "      <th>791</th>\n",
       "      <td>black comedy</td>\n",
       "      <td>9</td>\n",
       "      <td>0</td>\n",
       "      <td>9</td>\n",
       "    </tr>\n",
       "    <tr>\n",
       "      <th>744</th>\n",
       "      <td>twist ending</td>\n",
       "      <td>9</td>\n",
       "      <td>0</td>\n",
       "      <td>9</td>\n",
       "    </tr>\n",
       "    <tr>\n",
       "      <th>39</th>\n",
       "      <td>comic book</td>\n",
       "      <td>1</td>\n",
       "      <td>7</td>\n",
       "      <td>8</td>\n",
       "    </tr>\n",
       "    <tr>\n",
       "      <th>177</th>\n",
       "      <td>action</td>\n",
       "      <td>5</td>\n",
       "      <td>3</td>\n",
       "      <td>8</td>\n",
       "    </tr>\n",
       "    <tr>\n",
       "      <th>75</th>\n",
       "      <td>disturbing</td>\n",
       "      <td>8</td>\n",
       "      <td>0</td>\n",
       "      <td>8</td>\n",
       "    </tr>\n",
       "    <tr>\n",
       "      <th>623</th>\n",
       "      <td>Stephen King</td>\n",
       "      <td>4</td>\n",
       "      <td>4</td>\n",
       "      <td>8</td>\n",
       "    </tr>\n",
       "    <tr>\n",
       "      <th>350</th>\n",
       "      <td>psychological</td>\n",
       "      <td>8</td>\n",
       "      <td>0</td>\n",
       "      <td>8</td>\n",
       "    </tr>\n",
       "    <tr>\n",
       "      <th>550</th>\n",
       "      <td>Holocaust</td>\n",
       "      <td>7</td>\n",
       "      <td>0</td>\n",
       "      <td>7</td>\n",
       "    </tr>\n",
       "  </tbody>\n",
       "</table>\n",
       "</div>"
      ],
      "text/plain": [
       "                   tag  count_good  count_bad  total\n",
       "54    In Netflix queue          54          0     54\n",
       "444        atmospheric          16          0     16\n",
       "239  thought-provoking          13          1     14\n",
       "441        dark comedy          13          0     13\n",
       "108           suspense          11          1     12\n",
       "867           religion           7          4     11\n",
       "637               dark           9          1     10\n",
       "296         psychology          10          0     10\n",
       "119          emotional          10          0     10\n",
       "751            surreal          10          0     10\n",
       "301          superhero           1          9     10\n",
       "810             quirky           9          0      9\n",
       "791       black comedy           9          0      9\n",
       "744       twist ending           9          0      9\n",
       "39          comic book           1          7      8\n",
       "177             action           5          3      8\n",
       "75          disturbing           8          0      8\n",
       "623       Stephen King           4          4      8\n",
       "350      psychological           8          0      8\n",
       "550          Holocaust           7          0      7"
      ]
     },
     "execution_count": 21,
     "metadata": {},
     "output_type": "execute_result"
    }
   ],
   "source": [
    "# -------------------------------\n",
    "# 3. Comparaison : Tags dans films bien notés vs mal notés\n",
    "# -------------------------------\n",
    "def compute_tags_compare():\n",
    "    tag_counter_good = Counter()\n",
    "    tag_counter_bad = Counter()\n",
    "\n",
    "    # Ratings par lots\n",
    "    skip = 0\n",
    "    limit = 500\n",
    "    rating_map = {}\n",
    "    while True:\n",
    "        ratings = client.list_ratings(skip=skip, limit=limit, output_format=\"dict\")\n",
    "        if not ratings:\n",
    "            break\n",
    "        for r in ratings:\n",
    "            rating_map[r[\"movieId\"]] = rating_map.get(r[\"movieId\"], []) + [r[\"rating\"]]\n",
    "        skip += limit\n",
    "        time.sleep(0.5)\n",
    "\n",
    "    # Moyenne par film\n",
    "    movie_avg_rating = {\n",
    "        mid: sum(ratings)/len(ratings)\n",
    "        for mid, ratings in rating_map.items()\n",
    "    }\n",
    "\n",
    "    # Tags par lots\n",
    "    skip = 0\n",
    "    while True:\n",
    "        tags = client.list_tags(skip=skip, limit=limit, output_format=\"dict\")\n",
    "        if not tags:\n",
    "            break\n",
    "        for tag in tags:\n",
    "            avg_rating = movie_avg_rating.get(tag[\"movieId\"])\n",
    "            if avg_rating is not None:\n",
    "                if avg_rating >= 4:\n",
    "                    tag_counter_good[tag[\"tag\"]] += 1\n",
    "                elif avg_rating < 3:\n",
    "                    tag_counter_bad[tag[\"tag\"]] += 1\n",
    "        skip += limit\n",
    "        time.sleep(0.5)\n",
    "\n",
    "    tags = set(tag_counter_good.keys()) | set(tag_counter_bad.keys())\n",
    "    data = []\n",
    "    for tag in tags:\n",
    "        data.append({\n",
    "            \"tag\": tag,\n",
    "            \"count_good\": tag_counter_good.get(tag, 0),\n",
    "            \"count_bad\": tag_counter_bad.get(tag, 0)\n",
    "        })\n",
    "    df = pd.DataFrame(data)\n",
    "    df[\"total\"] = df[\"count_good\"] + df[\"count_bad\"]\n",
    "    df = df[df[\"total\"] > 5].sort_values(\"total\", ascending=False).head(20)\n",
    "    return df\n",
    "\n",
    "tags_compare_df = use_or_generate(tags_compare_path, current_stats, compute_tags_compare)\n",
    "tags_compare_df"
   ]
  },
  {
   "cell_type": "code",
   "execution_count": 22,
   "id": "d24f8bbe",
   "metadata": {},
   "outputs": [
    {
     "data": {
      "application/vnd.plotly.v1+json": {
       "config": {
        "plotlyServerURL": "https://plot.ly"
       },
       "data": [
        {
         "alignmentgroup": "True",
         "hovertemplate": "Type=count_good<br>Nombre d’occurrences=%{x}<br>Tag=%{y}<extra></extra>",
         "legendgroup": "count_good",
         "marker": {
          "color": "#636efa",
          "pattern": {
           "shape": ""
          }
         },
         "name": "count_good",
         "offsetgroup": "count_good",
         "orientation": "h",
         "showlegend": true,
         "textposition": "auto",
         "type": "bar",
         "x": {
          "bdata": "NhANDQsHCQoKCgEJCQkBBQgECAc=",
          "dtype": "i1"
         },
         "xaxis": "x",
         "y": [
          "In Netflix queue",
          "atmospheric",
          "thought-provoking",
          "dark comedy",
          "suspense",
          "religion",
          "dark",
          "psychology",
          "emotional",
          "surreal",
          "superhero",
          "quirky",
          "black comedy",
          "twist ending",
          "comic book",
          "action",
          "disturbing",
          "Stephen King",
          "psychological",
          "Holocaust"
         ],
         "yaxis": "y"
        },
        {
         "alignmentgroup": "True",
         "hovertemplate": "Type=count_bad<br>Nombre d’occurrences=%{x}<br>Tag=%{y}<extra></extra>",
         "legendgroup": "count_bad",
         "marker": {
          "color": "#EF553B",
          "pattern": {
           "shape": ""
          }
         },
         "name": "count_bad",
         "offsetgroup": "count_bad",
         "orientation": "h",
         "showlegend": true,
         "textposition": "auto",
         "type": "bar",
         "x": {
          "bdata": "AAABAAEEAQAAAAkAAAAHAwAEAAA=",
          "dtype": "i1"
         },
         "xaxis": "x",
         "y": [
          "In Netflix queue",
          "atmospheric",
          "thought-provoking",
          "dark comedy",
          "suspense",
          "religion",
          "dark",
          "psychology",
          "emotional",
          "surreal",
          "superhero",
          "quirky",
          "black comedy",
          "twist ending",
          "comic book",
          "action",
          "disturbing",
          "Stephen King",
          "psychological",
          "Holocaust"
         ],
         "yaxis": "y"
        }
       ],
       "layout": {
        "barmode": "group",
        "height": 600,
        "legend": {
         "title": {
          "text": "Type"
         },
         "tracegroupgap": 0
        },
        "template": {
         "data": {
          "bar": [
           {
            "error_x": {
             "color": "#2a3f5f"
            },
            "error_y": {
             "color": "#2a3f5f"
            },
            "marker": {
             "line": {
              "color": "#E5ECF6",
              "width": 0.5
             },
             "pattern": {
              "fillmode": "overlay",
              "size": 10,
              "solidity": 0.2
             }
            },
            "type": "bar"
           }
          ],
          "barpolar": [
           {
            "marker": {
             "line": {
              "color": "#E5ECF6",
              "width": 0.5
             },
             "pattern": {
              "fillmode": "overlay",
              "size": 10,
              "solidity": 0.2
             }
            },
            "type": "barpolar"
           }
          ],
          "carpet": [
           {
            "aaxis": {
             "endlinecolor": "#2a3f5f",
             "gridcolor": "white",
             "linecolor": "white",
             "minorgridcolor": "white",
             "startlinecolor": "#2a3f5f"
            },
            "baxis": {
             "endlinecolor": "#2a3f5f",
             "gridcolor": "white",
             "linecolor": "white",
             "minorgridcolor": "white",
             "startlinecolor": "#2a3f5f"
            },
            "type": "carpet"
           }
          ],
          "choropleth": [
           {
            "colorbar": {
             "outlinewidth": 0,
             "ticks": ""
            },
            "type": "choropleth"
           }
          ],
          "contour": [
           {
            "colorbar": {
             "outlinewidth": 0,
             "ticks": ""
            },
            "colorscale": [
             [
              0,
              "#0d0887"
             ],
             [
              0.1111111111111111,
              "#46039f"
             ],
             [
              0.2222222222222222,
              "#7201a8"
             ],
             [
              0.3333333333333333,
              "#9c179e"
             ],
             [
              0.4444444444444444,
              "#bd3786"
             ],
             [
              0.5555555555555556,
              "#d8576b"
             ],
             [
              0.6666666666666666,
              "#ed7953"
             ],
             [
              0.7777777777777778,
              "#fb9f3a"
             ],
             [
              0.8888888888888888,
              "#fdca26"
             ],
             [
              1,
              "#f0f921"
             ]
            ],
            "type": "contour"
           }
          ],
          "contourcarpet": [
           {
            "colorbar": {
             "outlinewidth": 0,
             "ticks": ""
            },
            "type": "contourcarpet"
           }
          ],
          "heatmap": [
           {
            "colorbar": {
             "outlinewidth": 0,
             "ticks": ""
            },
            "colorscale": [
             [
              0,
              "#0d0887"
             ],
             [
              0.1111111111111111,
              "#46039f"
             ],
             [
              0.2222222222222222,
              "#7201a8"
             ],
             [
              0.3333333333333333,
              "#9c179e"
             ],
             [
              0.4444444444444444,
              "#bd3786"
             ],
             [
              0.5555555555555556,
              "#d8576b"
             ],
             [
              0.6666666666666666,
              "#ed7953"
             ],
             [
              0.7777777777777778,
              "#fb9f3a"
             ],
             [
              0.8888888888888888,
              "#fdca26"
             ],
             [
              1,
              "#f0f921"
             ]
            ],
            "type": "heatmap"
           }
          ],
          "histogram": [
           {
            "marker": {
             "pattern": {
              "fillmode": "overlay",
              "size": 10,
              "solidity": 0.2
             }
            },
            "type": "histogram"
           }
          ],
          "histogram2d": [
           {
            "colorbar": {
             "outlinewidth": 0,
             "ticks": ""
            },
            "colorscale": [
             [
              0,
              "#0d0887"
             ],
             [
              0.1111111111111111,
              "#46039f"
             ],
             [
              0.2222222222222222,
              "#7201a8"
             ],
             [
              0.3333333333333333,
              "#9c179e"
             ],
             [
              0.4444444444444444,
              "#bd3786"
             ],
             [
              0.5555555555555556,
              "#d8576b"
             ],
             [
              0.6666666666666666,
              "#ed7953"
             ],
             [
              0.7777777777777778,
              "#fb9f3a"
             ],
             [
              0.8888888888888888,
              "#fdca26"
             ],
             [
              1,
              "#f0f921"
             ]
            ],
            "type": "histogram2d"
           }
          ],
          "histogram2dcontour": [
           {
            "colorbar": {
             "outlinewidth": 0,
             "ticks": ""
            },
            "colorscale": [
             [
              0,
              "#0d0887"
             ],
             [
              0.1111111111111111,
              "#46039f"
             ],
             [
              0.2222222222222222,
              "#7201a8"
             ],
             [
              0.3333333333333333,
              "#9c179e"
             ],
             [
              0.4444444444444444,
              "#bd3786"
             ],
             [
              0.5555555555555556,
              "#d8576b"
             ],
             [
              0.6666666666666666,
              "#ed7953"
             ],
             [
              0.7777777777777778,
              "#fb9f3a"
             ],
             [
              0.8888888888888888,
              "#fdca26"
             ],
             [
              1,
              "#f0f921"
             ]
            ],
            "type": "histogram2dcontour"
           }
          ],
          "mesh3d": [
           {
            "colorbar": {
             "outlinewidth": 0,
             "ticks": ""
            },
            "type": "mesh3d"
           }
          ],
          "parcoords": [
           {
            "line": {
             "colorbar": {
              "outlinewidth": 0,
              "ticks": ""
             }
            },
            "type": "parcoords"
           }
          ],
          "pie": [
           {
            "automargin": true,
            "type": "pie"
           }
          ],
          "scatter": [
           {
            "fillpattern": {
             "fillmode": "overlay",
             "size": 10,
             "solidity": 0.2
            },
            "type": "scatter"
           }
          ],
          "scatter3d": [
           {
            "line": {
             "colorbar": {
              "outlinewidth": 0,
              "ticks": ""
             }
            },
            "marker": {
             "colorbar": {
              "outlinewidth": 0,
              "ticks": ""
             }
            },
            "type": "scatter3d"
           }
          ],
          "scattercarpet": [
           {
            "marker": {
             "colorbar": {
              "outlinewidth": 0,
              "ticks": ""
             }
            },
            "type": "scattercarpet"
           }
          ],
          "scattergeo": [
           {
            "marker": {
             "colorbar": {
              "outlinewidth": 0,
              "ticks": ""
             }
            },
            "type": "scattergeo"
           }
          ],
          "scattergl": [
           {
            "marker": {
             "colorbar": {
              "outlinewidth": 0,
              "ticks": ""
             }
            },
            "type": "scattergl"
           }
          ],
          "scattermap": [
           {
            "marker": {
             "colorbar": {
              "outlinewidth": 0,
              "ticks": ""
             }
            },
            "type": "scattermap"
           }
          ],
          "scattermapbox": [
           {
            "marker": {
             "colorbar": {
              "outlinewidth": 0,
              "ticks": ""
             }
            },
            "type": "scattermapbox"
           }
          ],
          "scatterpolar": [
           {
            "marker": {
             "colorbar": {
              "outlinewidth": 0,
              "ticks": ""
             }
            },
            "type": "scatterpolar"
           }
          ],
          "scatterpolargl": [
           {
            "marker": {
             "colorbar": {
              "outlinewidth": 0,
              "ticks": ""
             }
            },
            "type": "scatterpolargl"
           }
          ],
          "scatterternary": [
           {
            "marker": {
             "colorbar": {
              "outlinewidth": 0,
              "ticks": ""
             }
            },
            "type": "scatterternary"
           }
          ],
          "surface": [
           {
            "colorbar": {
             "outlinewidth": 0,
             "ticks": ""
            },
            "colorscale": [
             [
              0,
              "#0d0887"
             ],
             [
              0.1111111111111111,
              "#46039f"
             ],
             [
              0.2222222222222222,
              "#7201a8"
             ],
             [
              0.3333333333333333,
              "#9c179e"
             ],
             [
              0.4444444444444444,
              "#bd3786"
             ],
             [
              0.5555555555555556,
              "#d8576b"
             ],
             [
              0.6666666666666666,
              "#ed7953"
             ],
             [
              0.7777777777777778,
              "#fb9f3a"
             ],
             [
              0.8888888888888888,
              "#fdca26"
             ],
             [
              1,
              "#f0f921"
             ]
            ],
            "type": "surface"
           }
          ],
          "table": [
           {
            "cells": {
             "fill": {
              "color": "#EBF0F8"
             },
             "line": {
              "color": "white"
             }
            },
            "header": {
             "fill": {
              "color": "#C8D4E3"
             },
             "line": {
              "color": "white"
             }
            },
            "type": "table"
           }
          ]
         },
         "layout": {
          "annotationdefaults": {
           "arrowcolor": "#2a3f5f",
           "arrowhead": 0,
           "arrowwidth": 1
          },
          "autotypenumbers": "strict",
          "coloraxis": {
           "colorbar": {
            "outlinewidth": 0,
            "ticks": ""
           }
          },
          "colorscale": {
           "diverging": [
            [
             0,
             "#8e0152"
            ],
            [
             0.1,
             "#c51b7d"
            ],
            [
             0.2,
             "#de77ae"
            ],
            [
             0.3,
             "#f1b6da"
            ],
            [
             0.4,
             "#fde0ef"
            ],
            [
             0.5,
             "#f7f7f7"
            ],
            [
             0.6,
             "#e6f5d0"
            ],
            [
             0.7,
             "#b8e186"
            ],
            [
             0.8,
             "#7fbc41"
            ],
            [
             0.9,
             "#4d9221"
            ],
            [
             1,
             "#276419"
            ]
           ],
           "sequential": [
            [
             0,
             "#0d0887"
            ],
            [
             0.1111111111111111,
             "#46039f"
            ],
            [
             0.2222222222222222,
             "#7201a8"
            ],
            [
             0.3333333333333333,
             "#9c179e"
            ],
            [
             0.4444444444444444,
             "#bd3786"
            ],
            [
             0.5555555555555556,
             "#d8576b"
            ],
            [
             0.6666666666666666,
             "#ed7953"
            ],
            [
             0.7777777777777778,
             "#fb9f3a"
            ],
            [
             0.8888888888888888,
             "#fdca26"
            ],
            [
             1,
             "#f0f921"
            ]
           ],
           "sequentialminus": [
            [
             0,
             "#0d0887"
            ],
            [
             0.1111111111111111,
             "#46039f"
            ],
            [
             0.2222222222222222,
             "#7201a8"
            ],
            [
             0.3333333333333333,
             "#9c179e"
            ],
            [
             0.4444444444444444,
             "#bd3786"
            ],
            [
             0.5555555555555556,
             "#d8576b"
            ],
            [
             0.6666666666666666,
             "#ed7953"
            ],
            [
             0.7777777777777778,
             "#fb9f3a"
            ],
            [
             0.8888888888888888,
             "#fdca26"
            ],
            [
             1,
             "#f0f921"
            ]
           ]
          },
          "colorway": [
           "#636efa",
           "#EF553B",
           "#00cc96",
           "#ab63fa",
           "#FFA15A",
           "#19d3f3",
           "#FF6692",
           "#B6E880",
           "#FF97FF",
           "#FECB52"
          ],
          "font": {
           "color": "#2a3f5f"
          },
          "geo": {
           "bgcolor": "white",
           "lakecolor": "white",
           "landcolor": "#E5ECF6",
           "showlakes": true,
           "showland": true,
           "subunitcolor": "white"
          },
          "hoverlabel": {
           "align": "left"
          },
          "hovermode": "closest",
          "mapbox": {
           "style": "light"
          },
          "paper_bgcolor": "white",
          "plot_bgcolor": "#E5ECF6",
          "polar": {
           "angularaxis": {
            "gridcolor": "white",
            "linecolor": "white",
            "ticks": ""
           },
           "bgcolor": "#E5ECF6",
           "radialaxis": {
            "gridcolor": "white",
            "linecolor": "white",
            "ticks": ""
           }
          },
          "scene": {
           "xaxis": {
            "backgroundcolor": "#E5ECF6",
            "gridcolor": "white",
            "gridwidth": 2,
            "linecolor": "white",
            "showbackground": true,
            "ticks": "",
            "zerolinecolor": "white"
           },
           "yaxis": {
            "backgroundcolor": "#E5ECF6",
            "gridcolor": "white",
            "gridwidth": 2,
            "linecolor": "white",
            "showbackground": true,
            "ticks": "",
            "zerolinecolor": "white"
           },
           "zaxis": {
            "backgroundcolor": "#E5ECF6",
            "gridcolor": "white",
            "gridwidth": 2,
            "linecolor": "white",
            "showbackground": true,
            "ticks": "",
            "zerolinecolor": "white"
           }
          },
          "shapedefaults": {
           "line": {
            "color": "#2a3f5f"
           }
          },
          "ternary": {
           "aaxis": {
            "gridcolor": "white",
            "linecolor": "white",
            "ticks": ""
           },
           "baxis": {
            "gridcolor": "white",
            "linecolor": "white",
            "ticks": ""
           },
           "bgcolor": "#E5ECF6",
           "caxis": {
            "gridcolor": "white",
            "linecolor": "white",
            "ticks": ""
           }
          },
          "title": {
           "x": 0.05
          },
          "xaxis": {
           "automargin": true,
           "gridcolor": "white",
           "linecolor": "white",
           "ticks": "",
           "title": {
            "standoff": 15
           },
           "zerolinecolor": "white",
           "zerolinewidth": 2
          },
          "yaxis": {
           "automargin": true,
           "gridcolor": "white",
           "linecolor": "white",
           "ticks": "",
           "title": {
            "standoff": 15
           },
           "zerolinecolor": "white",
           "zerolinewidth": 2
          }
         }
        },
        "title": {
         "text": "Comparaison des Tags : Films bien notés vs mal notés"
        },
        "xaxis": {
         "anchor": "y",
         "domain": [
          0,
          1
         ],
         "title": {
          "text": "Nombre d’occurrences"
         }
        },
        "yaxis": {
         "anchor": "x",
         "categoryorder": "total ascending",
         "domain": [
          0,
          1
         ],
         "title": {
          "text": "Tag"
         }
        }
       }
      }
     },
     "metadata": {},
     "output_type": "display_data"
    }
   ],
   "source": [
    "# Visualisation : Comparaison des tags\n",
    "fig3 = px.bar(\n",
    "    tags_compare_df.melt(id_vars=\"tag\", value_vars=[\"count_good\", \"count_bad\"],\n",
    "                         var_name=\"Type\", value_name=\"count\"),\n",
    "    x=\"count\",\n",
    "    y=\"tag\",\n",
    "    color=\"Type\",\n",
    "    barmode=\"group\",\n",
    "    title=\"Comparaison des Tags : Films bien notés vs mal notés\",\n",
    "    labels={\"count\": \"Nombre d’occurrences\", \"tag\": \"Tag\"}\n",
    ")\n",
    "fig3.update_layout(yaxis={'categoryorder':'total ascending'}, height=600)\n",
    "fig3.show()"
   ]
  }
 ],
 "metadata": {
  "kernelspec": {
   "display_name": "env",
   "language": "python",
   "name": "python3"
  },
  "language_info": {
   "codemirror_mode": {
    "name": "ipython",
    "version": 3
   },
   "file_extension": ".py",
   "mimetype": "text/x-python",
   "name": "python",
   "nbconvert_exporter": "python",
   "pygments_lexer": "ipython3",
   "version": "3.12.10"
  }
 },
 "nbformat": 4,
 "nbformat_minor": 5
}
